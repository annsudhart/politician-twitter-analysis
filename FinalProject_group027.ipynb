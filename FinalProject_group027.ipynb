{
 "cells": [
  {
   "cell_type": "markdown",
   "metadata": {},
   "source": [
    "# COGS 108 - Final Project "
   ]
  },
  {
   "cell_type": "markdown",
   "metadata": {},
   "source": [
    "In this study, we analyzed how a sample of politicians from the House of Representatives voted on various bills, as well as how they tweeted about these bills. We gathered voting data and used sentiment analysis on their mined tweets. The goal was to compare whether the opinions espoused in their tweets were ultimately reflected in how they cast their vote. The scores attributed to each politician is a representation of their viewpoint consistency and was aggregated in various ways to describe the two parties’ relationship with honesty."
   ]
  },
  {
   "cell_type": "markdown",
   "metadata": {},
   "source": [
    "# Names\n",
    "\n",
    "- Mariam Issa\n",
    "- Andrea Sudharta\n",
    "- Payam Sadeghian\n",
    "- Brandon Amaral\n",
    "- Alex Luo\n",
    "- Jun Wang"
   ]
  },
  {
   "cell_type": "markdown",
   "metadata": {},
   "source": [
    "# Research Question"
   ]
  },
  {
   "cell_type": "markdown",
   "metadata": {},
   "source": [
    "How consistent are Congressmen/Congresswomen with the beliefs they state on Twitter and how they vote on various issues in Congress? Are both parties equally consistent in their views?"
   ]
  },
  {
   "cell_type": "markdown",
   "metadata": {},
   "source": [
    "## Background and Prior Work"
   ]
  },
  {
   "cell_type": "markdown",
   "metadata": {},
   "source": [
    "The US government relies on its Congress to check the powers of the president and other branches of government. One would expect to see nothing but honesty in this crucial cog of our government. It is shocking that members of Congress are some of the least trusted professionals. As Americans we assume those elected to serve us would want to preserve their reputation for honesty, but many people understand this isn't the case. Has lying become the norm for so long, that people have stopped caring?  \n",
    "\n",
    "The Truther Tweet Team attempts to uncover the reality of our government practices. In this project, we will analyze data to understand voting patterns and honesty in politicians and aim to uncover the deceivers in our Congress. We will scan the Twitter accounts of Congress members, taking key words and hashtags for hot topics, and compare their word against their voting patterns. Finally, we will use statistical tests to decipher which members are significantly dishonest and those who aren’t.  \n",
    "\n",
    "Over the years the public’s primary source of information has switched from Newspaper to Television and now to the Internet. Specifically, politicians have taken a liking to the social media platform, Twitter, to spread proposals. The hashtag tool, the like, and the retweet features have proven effective in spreading information to members with the same ideological standing. Essentially, the political left and the political right have split into two groups on social media. This may result in people not checking the information they see or what those they follow vote. They mostly attack each other and think less of the other group. This environment is perfect for lying politicians to gain support from the average member of the political party. We predict some members are greater liars than others. In this study we aim to uncover those who tend to lie, a lot.  \n",
    "\n",
    "One study gave us the groundwork for studying political leanings based on language. Korilova and others used data science and neural networking to predict how republicans or democrats would vote on each bill. It looked at the language used by bills and party ideology then categorizes a bill using a sentiment analysis on keyword vectors against a partisan sponsor vector. The study’s model was able to predict 86% of votes correctly in the 2005–2012 test set. The accuracy scores are several percent better than previous state-of-the-art machine learning approaches. Also, the study’s data model yields interesting insights regarding the relative ideological positions of prominent legislators. The legislator vectors from their model, for example, can be used as a proxy for legislator ideology. By looking at yes and no voting they found that most Democrats will most likely support the bill sponsored by their own part and have negative opinions on a Republican version. The opposite is true for the Republicans.  \n",
    "\n",
    "In other projects, those mainly research Trump’s impact on politics. The president is known as an excessive liar. Since Trumps’ introduction into politics, political analysts have seen a rise in lying accompanied by a defense of ‘fake news’ and ‘alternative facts’ against said lies. Other politicians have taken to such practices and we have one of the greatest problems in modern politics, excessive lying. “The Trump regime can be seen as post truth and hyper-Orwellian in its use of blatant lies, propaganda, and pure bullshit”. We can extrapolate that Trump has created an environment for lying politicians to grow.\n",
    "\n",
    "\n",
    "\n",
    "References:\n",
    " 1.  https://www.forbes.com/sites/niallmccarthy/2019/01/11/americas-most-least-trusted-professions-infographic/#195b387c7e94\n",
    " 2. https://link.springer.com/chapter/10.1007/978-981-10-8013-5_7\n",
    " 3. https://arxiv.org/abs/1805.08182"
   ]
  },
  {
   "cell_type": "markdown",
   "metadata": {},
   "source": [
    "# Hypothesis"
   ]
  },
  {
   "cell_type": "markdown",
   "metadata": {},
   "source": [
    "H0: Both parties have the same consistency scores under 90% significant level.  To clarify, the null hypothesis predicts that average consistency scores of Democratic and Republican members of Congress between tweets and voting behavior will be equal to a significance level of 90%. We predict that members of Congress will be mostly consistent between their tweets and their voting behavior, because of the easily accessible information that is available to the public (such as their voting ballots on GovTrack.us).  \n",
    "HA (Alternative hypothesis): The parties do not have the same consistency scores under 90% significant level. In other words, the alternative hypothesis suggests that average consistency scores of Democratic and Republican members of Congress between tweets and voting behavior will be not be equal to a significance level of 90%. This is also likely due to possible lack of accountability for transparency mentioned below.  \n",
    "  \n",
    "Supplementing this watchdog effect is the vast number of  media sources that serve to broadcast any unethical behavior from Congress members, such as misleading and lying to their constituents on a platform such as Twitter.  We do not believe there will be a high consistency between voting behavior and Tweets; politicians are not truly held accountable due to a lack of attentiveness of the American public in regards to how their representatives vote (despite the easily-accessible information). Additionally, these past decades have witnessed a decline in investigative journalism, which means there may be a possibility of Congress members voting with misaligned incentives due to low-risk repercussions.  This is an phenomenon that we would like to study in this project, because the extent of which this assumption is true will expose how honest Congress members are to their constituents and to the general public."
   ]
  },
  {
   "cell_type": "markdown",
   "metadata": {},
   "source": [
    "# Dataset(s)"
   ]
  },
  {
   "cell_type": "markdown",
   "metadata": {},
   "source": [
    "To answer the question of whether individuals in Congress are voting in alignment to the views they express on Twitter, we will inspect eight bills that were voted on in Congress this past year and use this to compare it to the sentiment of the respective representative’s tweets on Twitter. These eight bills are:  \n",
    "- H.R. 16644: Save the Internet Act of 2019 (https://www.govtrack.us/congress/votes/116-2019/h167). This bill deals with Net Neutrality and restoring the open internet order of the Federal Communications Commision. With this bill, we will scan the Twitter accounts of each the Representatives for tweets on the issues, which can be searched for using hashtags, such as #SaveTheInternet and #NetNeutrality.\n",
    "- H.Res 271: Condemning the Trump Administration’s Legal Campaign to Take Away Americans’ Health Care (https://www.govtrack.us/congress/votes/116-2019/h146). This can be tracked on Twitter with the hashtags. \n",
    "- H.R. 7: Paycheck Fairness Act (https://www.govtrack.us/congress/votes/116-2019/h134), which ammend the Fair Labor Standards Act of 1938 to remedy the discrimination, in terms of wages,  on the basis of sex.  The hashtags #EqualPay, #EqualRightsAmmendment, #ERA, #women, #EqualRights, #GenderInequality indicate approval for this bill.\n",
    "- H.R. 1: For the People Act of 2019 (https://www.govtrack.us/congress/votes/116-2019/h118), which was a vote to “expand Americans’ access to the ballot box, reduce the influence of big money in politics, and strengthen ethics rules for public servants, and for other purposes”.   We can track this issue on Twitter, using the following hashtags: #VotingRights, #ElectionIntegrity, #RiggedElections, #ForThePeople.\n",
    "- H.Res. 145: Providing for consideration of the bill (H.R. 8) to require a background check for every firearm sale, and providing for consideration of the bill (H.R. 1112) to amend chapter 44 of title 18, United States Code, to strengthen the background check procedures to be followed before a Federal firearms licensee ... may transfer a firearm to a person who is not such a licensee. (https://www.govtrack.us/congress/votes/116-2019/h91). This bill refers to the gun violence that has become quite ubiquitous in the country. This ia a polarizing issue, where Congress members have been quite vocal in their opinions. We can expect to trace tweets regarding this topic with the hashtags: #GunControl, #2ndAmmendment, #NoGunControl, and #GunViolence.\n",
    "- S.J.Res. 7: A joint resolution to direct the removal of United States Armed Forces from hostilities in the Republic of Yemen that have not been authorized by Congress. (https://www.govtrack.us/congress/votes/116-2019/h153). This bill was a vote on whether or not to withdraw troops from the proxy war inYemen.  Tweets containing the references to Yemen will be extracted and used for analysis. \n",
    "- H.R. 1585: Violence Against Women Reauthorization Act of 2019 (https://www.govtrack.us/congress/votes/116-2019/h156). Tweets in regards to this topic will be found with the key words of this bill.\n",
    "- H.J.Res. 46: Relating to a national emergency declared by the President on February 15, 2019. (https://www.govtrack.us/congress/votes/116-2019/h127). This bill condemns the national emergency Trump declared in January of 2019. Tweets mentioning Trump and the national security will be mined from Twitter.  \n",
    "\n",
    "Here are the details on our two main sources of data.\n",
    "\n",
    "- Dataset Name: GovTrack\n",
    "- Link to the dataset: https://raw.githubusercontent.com/annsudhart/politician-tweet-analysis/master/GovTrack/govtrack.csv\n",
    "- Number of observations: 735 x 5\n",
    "  \n",
    "  We will source this information from the GovTrack website (www.govtrack.us), where the votes of each bill has been recorded.  This data can be downloaded as a CSV file, where the file format is consistent between all of the bills selected for analysis.\n",
    "They have columns of the state the politician represents, how they vote on a particular topic, the politician's name, their political party affiliation, and the issue they voted on.\n",
    "\n",
    "- Dataset Name: Tweets by Bill\n",
    "- Link to the dataset: https://raw.githubusercontent.com/annsudhart/politician-tweet-analysis/master/tweets_by_bill\n",
    "- Number of observations: ~51000 tweets scraped\n",
    "\n",
    "By scraping 1000 tweets per politician, we get information of each politician and all their tweets related to a particular topic."
   ]
  },
  {
   "cell_type": "markdown",
   "metadata": {},
   "source": [
    "# Setup"
   ]
  },
  {
   "cell_type": "markdown",
   "metadata": {},
   "source": [
    "The following is the code used to generate `tweets_by_bill.csv` from `popular-tweeters-dem.csv` and `popular-tweeters-rep.csv`. `popular-tweeters-rep.csv` and `popular-tweeters-dem.csv` are csv files containing prominent politicians who are active on Twitter, with 60 politicians/entries in each side.  "
   ]
  },
  {
   "cell_type": "code",
   "execution_count": 1,
   "metadata": {},
   "outputs": [],
   "source": [
    "import pandas as pd\n",
    "import numpy as np\n",
    "import tweepy\n",
    "from bs4 import BeautifulSoup\n",
    "import datetime\n",
    "from datetime import timedelta\n",
    "import requests\n",
    "import time\n",
    "import matplotlib.pyplot as plt\n",
    "import ast\n",
    "import seaborn as sns\n",
    "import tweepy\n",
    "import os\n",
    "import json\n",
    "import glob\n",
    "from google.cloud import language\n",
    "from google.cloud.language import enums\n",
    "from google.cloud.language import types\n",
    "from nltk.tokenize import word_tokenize"
   ]
  },
  {
   "cell_type": "code",
   "execution_count": 2,
   "metadata": {},
   "outputs": [],
   "source": [
    "# Create a list of politicians' twitter handles to parse through from csv files\n",
    "tweeters_dem_df = pd.read_csv('popular-tweeters-dem.csv') # Dataframe for list of Democratic Party politicians\n",
    "tweeters_rep_df = pd.read_csv('popular-tweeters-rep.csv') # Dataframe for list of Republican Party politicians\n",
    "tweeters_dem_df['Party'] = 'D'\n",
    "tweeters_rep_df['Party'] = 'R'\n",
    "tweeters_df = pd.concat([tweeters_dem_df, tweeters_rep_df], ignore_index = True) # Dataframe for combined list of politicians\n",
    "\n",
    "tweeters_handle = list(tweeters_df['Twitter_Handle']) # Python list for politician Twitter handles"
   ]
  },
  {
   "cell_type": "markdown",
   "metadata": {},
   "source": [
    "The following cells will show the code used to grab all the tweets we are looking for."
   ]
  },
  {
   "cell_type": "code",
   "execution_count": 54,
   "metadata": {},
   "outputs": [
    {
     "name": "stdout",
     "output_type": "stream",
     "text": [
      "https://api.twitter.com/oauth/authorize?oauth_token=Eamr_QAAAAAA-UgvAAABa0nLCMg\n"
     ]
    }
   ],
   "source": [
    "# Get OAuth from Twitter and use tweepy to parse through tweets\n",
    "\n",
    "consumer_key = json.load(open('tweepy.json'))['key']\n",
    "consumer_secret = json.load(open('tweepy.json'))['secret']\n",
    "\n",
    "auth = tweepy.OAuthHandler(consumer_key, consumer_secret)\n",
    "\n",
    "try:\n",
    "    redirect_url = auth.get_authorization_url()\n",
    "    print (redirect_url)\n",
    "    \n",
    "except tweepy.TweepError:\n",
    "    print(\"Error! Failed to get request token.\")"
   ]
  },
  {
   "cell_type": "code",
   "execution_count": null,
   "metadata": {},
   "outputs": [],
   "source": [
    "# Verify Twitter account usage\n",
    "verifier = raw_input('Verifier:')"
   ]
  },
  {
   "cell_type": "code",
   "execution_count": null,
   "metadata": {},
   "outputs": [],
   "source": [
    "# Get Access Token\n",
    "# NORUN\n",
    "try: \n",
    "    auth.get_access_token(verifier)\n",
    "except tweepy.TweepError:\n",
    "    print (\"Error! Failed to get access token.\")"
   ]
  },
  {
   "cell_type": "code",
   "execution_count": null,
   "metadata": {},
   "outputs": [],
   "source": [
    "# Save tokens\n",
    "access_token = auth.access_token\n",
    "acess_token_secret = auth.access_token_secret"
   ]
  },
  {
   "cell_type": "code",
   "execution_count": null,
   "metadata": {},
   "outputs": [],
   "source": [
    "# Check Set Up\n",
    "api = tweepy.API(auth)\n",
    "#api.update_status('tweepy + oauth!') # Posts directly on my timeline"
   ]
  },
  {
   "cell_type": "code",
   "execution_count": 3,
   "metadata": {},
   "outputs": [],
   "source": [
    "# Filter tweets to only include those containing key words\n",
    "key_words_by_bill = {\n",
    "    0:['#savetheinternet', '#netneutrality', 'internet', 'neutrality'], \n",
    "    1:['#medicareforall', '#universalhealthcare','#healthcare', 'health', 'care', 'health', 'care', 'medicare'], \n",
    "    2: ['#equalpay', '#equalrights', '#equalrightsammendment', '#era', '#women', '#genderinequality', '#genderequality', 'equal', 'rights', 'pay', 'women', 'gender', 'equality'],\n",
    "    3:['#votingrights', '#votingrightact', '#electionintegrity', '#riggedelections', '#forthepeople', 'voting', 'rights', 'elections', 'fair', 'vote', 'votes'], \n",
    "    4:['#guncontrol', '#2ndammendment', '#noguncontol', '#gunviolence', '#gunrights', '#gunreform', '#2a', 'gun', 'second', '2nd',  'amendment'], \n",
    "    5:['#yemen', '#yemengenocide', 'yemen', 'yemeni', 'war', 'troops', 'withdraw troops', 'civil'], \n",
    "    6:['#women', '#reauthorizationact', '#violenceagainstwomen', '#genderbasedviolence', '#sexualviolence', 'women'],  \n",
    "    7:['#buildthewall', '#buildthewallnow', '#nationalsecurity', '#nationalemergency', '#trumpswall', '#illegalimmigration', '#mexico', '#border', '#bordercrises', 'mexico', 'illegal', 'immigration', 'security', 'emergency', 'build', 'wall']\n",
    "}\n",
    "\n",
    "key_words = list({x for v in key_words_by_bill.values() for x in v})\n",
    "\n"
   ]
  },
  {
   "cell_type": "code",
   "execution_count": 4,
   "metadata": {},
   "outputs": [],
   "source": [
    "# Define Intersection Function\n",
    "def interSection(arr1,arr2): \n",
    "    return list(filter(lambda x: x in arr1, arr2)) "
   ]
  },
  {
   "cell_type": "code",
   "execution_count": 5,
   "metadata": {},
   "outputs": [],
   "source": [
    "# Collect all tweets that deal with each bill in Congress\n",
    "bill = [{}] * 8 # bill[bill_number] = {congressman: [tweets about bill]}\n",
    "tweets = {}"
   ]
  },
  {
   "cell_type": "code",
   "execution_count": 6,
   "metadata": {},
   "outputs": [],
   "source": [
    "bill_title = {\n",
    "    0: \"Save the Internet\",\n",
    "    1: \"Health Care\",\n",
    "    2: \"Paycheck Fairness Act\",\n",
    "    3: \"For the People Act 2019\",\n",
    "    4: \"Background Check for Firearms\",\n",
    "    5: \"Remove Troops from Yemen\",\n",
    "    6: \"Violence against Women Reauthorization Act\",\n",
    "    7: \"Trump's National Emergency\"\n",
    "}"
   ]
  },
  {
   "cell_type": "code",
   "execution_count": null,
   "metadata": {},
   "outputs": [],
   "source": [
    "#Iterate through Congressmen\n",
    "for handle in tweeters_handle:\n",
    "    all_tweets = []\n",
    "\n",
    "    for i in range(1000):\n",
    "        try:\n",
    "            tweets_from_page_i = api.user_timeline(handle, count = 200, page = i) # max count value is 200\n",
    "        except:\n",
    "            print(\"TweepError: stopped at handle: \", handle, \" at page \", i)\n",
    "        \n",
    "        # Check if we reached end of Twitter history\n",
    "        if len(tweets_from_page_i) == 0: \n",
    "            break\n",
    "            \n",
    "        #iterate through each tweet, sort by bill\n",
    "        for tweet in tweets_from_page_i:\n",
    "            tweet_tokens = (tweet.text).lower().split()\n",
    "            \n",
    "            # See if Tweet talks about bill matter\n",
    "            for bill_number, bill_tokens in key_words_by_bill.items():\n",
    "                if len(interSection(tweet_tokens, bill_tokens)) != 0:\n",
    "                    if bill[bill_number] == {}:\n",
    "                        bill[bill_number] = {handle:[tweet.text]}\n",
    "                    else:\n",
    "                        if handle not in bill[bill_number]:\n",
    "                            bill[bill_number][handle] = [tweet.text]\n",
    "                        else:\n",
    "                            bill[bill_number][handle] += [tweet.text]\n",
    "                    \n",
    "                    # Compile to all tweets list\n",
    "                    all_tweets.append(tweet.text)\n",
    "                    \n",
    "    # Collect congressman/woman's tweets         \n",
    "    tweets[handle] = all_tweets\n",
    "        \n",
    "    # Sleep: to not overload Twitter requests\n",
    "    time.sleep(45)"
   ]
  },
  {
   "cell_type": "code",
   "execution_count": null,
   "metadata": {},
   "outputs": [],
   "source": [
    "#Create look up table for Congressman/woman's name and party\n",
    "tweeters_party = list(tweeters_df['Party'])\n",
    "tweeters_name = list(tweeters_df['Name'])\n",
    "\n",
    "handle_to_party = {}\n",
    "handle_to_name = {}\n",
    "for i, handle in enumerate(tweeters_handle):\n",
    "    handle_to_party[handle] = tweeters_party[i]\n",
    "    handle_to_name[handle] = tweeters_name[i]\n",
    "\n",
    "data = [] \n",
    "\n",
    "# List all tweets by bill it's associated with and the congressman who tweeted it\n",
    "for i in range(len(bill)):\n",
    "    for handle, tweet in bill[i].items():\n",
    "        data.append([handle_to_name[handle], handle_to_party[handle], handle, bill_title[i], tweet])\n",
    "        \n",
    "tweeters_df = pd.DataFrame(data, columns = ['Name', 'Party', 'Twitter Handle', 'Bill #', 'Tweet'])\n",
    "\n",
    "# Export CSV with Tweets\n",
    "tweeters_df.to_csv('tweets_by_bill')"
   ]
  },
  {
   "cell_type": "markdown",
   "metadata": {},
   "source": [
    "Now that we have gathered the data of all of the tweets politicians have made, we should now gather the data for the voting patterns of these same politicians from Govtrack.us:"
   ]
  },
  {
   "cell_type": "code",
   "execution_count": 7,
   "metadata": {},
   "outputs": [
    {
     "data": {
      "text/plain": [
       "['congress_votes_116-2019_h118.csv',\n",
       " 'congress_votes_116-2019_h127.csv',\n",
       " 'congress_votes_116-2019_h134.csv',\n",
       " 'congress_votes_116-2019_h146.csv',\n",
       " 'congress_votes_116-2019_h153.csv',\n",
       " 'congress_votes_116-2019_h156.csv',\n",
       " 'congress_votes_116-2019_h167.csv',\n",
       " 'congress_votes_116-2019_h91.csv']"
      ]
     },
     "execution_count": 7,
     "metadata": {},
     "output_type": "execute_result"
    }
   ],
   "source": [
    "csvs = [x for x in os.listdir('./govtrack/') if 'csv' in x]\n",
    "csvs"
   ]
  },
  {
   "cell_type": "code",
   "execution_count": 8,
   "metadata": {},
   "outputs": [
    {
     "name": "stderr",
     "output_type": "stream",
     "text": [
      "C:\\Users\\Andrea\\AppData\\Local\\Continuum\\anaconda3\\lib\\site-packages\\ipykernel_launcher.py:145: SettingWithCopyWarning: \n",
      "A value is trying to be set on a copy of a slice from a DataFrame.\n",
      "Try using .loc[row_indexer,col_indexer] = value instead\n",
      "\n",
      "See the caveats in the documentation: http://pandas.pydata.org/pandas-docs/stable/indexing.html#indexing-view-versus-copy\n"
     ]
    }
   ],
   "source": [
    "bill_names = ['Paycheck Fairness Act',  \n",
    "              'Background Check for Firearms',\n",
    "              'For the People Act 2019', \n",
    "              \"Trump's National Emergency\", \n",
    "              'Violence against Women Reauthorization Act', \n",
    "              'Health Care', \n",
    "              'Remove Troops from Yemen', \n",
    "              'Save the Internet']\n",
    "dfs = []\n",
    "for csv, bill in zip(csvs, bill_names):\n",
    "    df = pd.read_csv('./govtrack/' + csv).reset_index()\n",
    "    act_name = df.columns[-1]\n",
    "    new_header = df.iloc[0] #grab the first row for the header\n",
    "    df = df[1:] #take the data less the header row\n",
    "    df.columns = new_header #set the header row as the df header\n",
    "    df['Bill'] = [bill] * len(df)\n",
    "    dfs.append(df)\n",
    "combined = pd.concat(dfs)\n",
    "\n",
    "politicians = ['earl blumenauer',\n",
    " 'daniel webster',\n",
    " 'john barrasso',\n",
    " 'louie gohmert',\n",
    " 'steve king',\n",
    " 'ted yoho',\n",
    " 'mitch mcconnell',\n",
    " 'maxine waters',\n",
    " 'terri sewell',\n",
    " 'mo brooks',\n",
    " 'juan vargas',\n",
    " 'marcy kaptur',\n",
    " 'jared huffman',\n",
    " 'elijah cummings',\n",
    " 'katherine clark',\n",
    " 'chuck grassley',\n",
    " 'paul gosar',\n",
    " 'michael mccaul',\n",
    " 'bill foster',\n",
    " 'barry loudermilk',\n",
    " 'pete king',\n",
    " 'steve stivers',\n",
    " 'ruben gallego',\n",
    " 'cheri bustos',\n",
    " 'john ratcliffe',\n",
    " 'jackie speier',\n",
    " 'david b mckinley',\n",
    " 'joni ernst',\n",
    " 'john yarmuth',\n",
    " 'bill huizenga',\n",
    " 'mark takano',\n",
    " 'val demings',\n",
    " 'john lewis',\n",
    " 'joe kennedy',\n",
    " 'seth moulton',\n",
    " 'kathy castor',\n",
    " 'ted lieu',\n",
    " 'brian babin',\n",
    " 'don beyer',\n",
    " 'adam kinzinger',\n",
    " 'derek kilmer',\n",
    " 'don bacon',\n",
    " 'stacey plaskett',\n",
    " 'tim ryan',\n",
    " 'stephanie murphy',\n",
    " 'john thune',\n",
    " 'kevin mccarthy',\n",
    " 'kevin brady',\n",
    " 'deb dingell',\n",
    " 'hakeem jeffries',\n",
    " 'marco rubio',\n",
    " 'pete olson',\n",
    " 'jerry nadler',\n",
    " 'dan kildee',\n",
    " 'tulsi gabbard',\n",
    " 'mario diaz-balart',\n",
    " 'ro khanna',\n",
    " 'bob latta',\n",
    " 'jeff duncan',\n",
    " 'peter welch',\n",
    " 'richard neal',\n",
    " 'brenda lawrence',\n",
    " 'joaquin castro',\n",
    " 'steve scalise',\n",
    " 'grace meng',\n",
    " 'lucille roybal-allard',\n",
    " 'scott peters',\n",
    " 'will hurd',\n",
    " 'annie kuster',\n",
    " 'mike enzi',\n",
    " 'jim jordan',\n",
    " 'sean maloney',\n",
    " 'bob gibbs',\n",
    " 'tom graves',\n",
    " 'rashida tlaib',\n",
    " 'rob porman',\n",
    " 'pramila jayapal',\n",
    " 'cathy rodgers',\n",
    " 'eric swalwell',\n",
    " 'mark green',\n",
    " 'barbra lee',\n",
    " 'scott tipton',\n",
    " 'debbie wasserman schultz',\n",
    " 'austin scott',\n",
    " 'bill johnson',\n",
    " 'nanette barragan',\n",
    " 'thomas massie',\n",
    " 'marc veasey',\n",
    " 'john shimkus',\n",
    " 'nancy pelosi',\n",
    " 'mark pocan',\n",
    " 'adam schiff',\n",
    " 'steny hoyer',\n",
    " 'jason smith',\n",
    " 'ilhan omar',\n",
    " 'alan lowenthal',\n",
    " 'diana degette',\n",
    " 'lucy mcbath',\n",
    " 'dan newhouse',\n",
    " 'suzanne bonamici',\n",
    " 'adrian smith',\n",
    " 'alexandria ocasio-cortez',\n",
    " 'elise stefanik',\n",
    " 'lee zeldin',\n",
    " 'karen bass',\n",
    " 'sean duffy',\n",
    " 'doug collins',\n",
    " 'robin kelly',\n",
    " 'john curtis',\n",
    " 'matt gaetz',\n",
    " 'john cornyn',\n",
    " 'clay higgens',\n",
    " 'mitt romney',\n",
    " 'chip roy',\n",
    " 'mark meadows',\n",
    " 'kay granger',\n",
    " 'devin nunes'\n",
    "]\n",
    "def standardize_names(name):\n",
    "    name = name.lower()\n",
    "    name = name.split(\" [\")[0]\n",
    "    name = name.split(\"rep. \")[1]\n",
    "    return name\n",
    "combined['name'] = combined['name'].apply(standardize_names)\n",
    "govtrack_df = combined[combined['name'].isin(politicians)]\n",
    "govtrack_df['party'] = govtrack_df['party'].apply(lambda x: x[0])"
   ]
  },
  {
   "cell_type": "code",
   "execution_count": 9,
   "metadata": {},
   "outputs": [
    {
     "data": {
      "text/plain": [
       "array(['Yea', 'Nay', 'Not Voting', 'Aye', 'No'], dtype=object)"
      ]
     },
     "execution_count": 9,
     "metadata": {},
     "output_type": "execute_result"
    }
   ],
   "source": [
    "# what possible votes are there?\n",
    "govtrack_df['vote'].unique()"
   ]
  },
  {
   "cell_type": "code",
   "execution_count": 10,
   "metadata": {},
   "outputs": [
    {
     "name": "stderr",
     "output_type": "stream",
     "text": [
      "C:\\Users\\Andrea\\AppData\\Local\\Continuum\\anaconda3\\lib\\site-packages\\ipykernel_launcher.py:2: SettingWithCopyWarning: \n",
      "A value is trying to be set on a copy of a slice from a DataFrame.\n",
      "Try using .loc[row_indexer,col_indexer] = value instead\n",
      "\n",
      "See the caveats in the documentation: http://pandas.pydata.org/pandas-docs/stable/indexing.html#indexing-view-versus-copy\n",
      "  \n"
     ]
    },
    {
     "data": {
      "text/html": [
       "<div>\n",
       "<style scoped>\n",
       "    .dataframe tbody tr th:only-of-type {\n",
       "        vertical-align: middle;\n",
       "    }\n",
       "\n",
       "    .dataframe tbody tr th {\n",
       "        vertical-align: top;\n",
       "    }\n",
       "\n",
       "    .dataframe thead th {\n",
       "        text-align: right;\n",
       "    }\n",
       "</style>\n",
       "<table border=\"1\" class=\"dataframe\">\n",
       "  <thead>\n",
       "    <tr style=\"text-align: right;\">\n",
       "      <th></th>\n",
       "      <th>name</th>\n",
       "      <th>state</th>\n",
       "      <th>party</th>\n",
       "      <th>vote</th>\n",
       "      <th>Bill</th>\n",
       "    </tr>\n",
       "  </thead>\n",
       "  <tbody>\n",
       "    <tr>\n",
       "      <th>4</th>\n",
       "      <td>earl blumenauer</td>\n",
       "      <td>OR</td>\n",
       "      <td>D</td>\n",
       "      <td>1</td>\n",
       "      <td>Paycheck Fairness Act</td>\n",
       "    </tr>\n",
       "    <tr>\n",
       "      <th>5</th>\n",
       "      <td>kevin brady</td>\n",
       "      <td>TX</td>\n",
       "      <td>R</td>\n",
       "      <td>0</td>\n",
       "      <td>Paycheck Fairness Act</td>\n",
       "    </tr>\n",
       "    <tr>\n",
       "      <th>15</th>\n",
       "      <td>elijah cummings</td>\n",
       "      <td>MD</td>\n",
       "      <td>D</td>\n",
       "      <td>1</td>\n",
       "      <td>Paycheck Fairness Act</td>\n",
       "    </tr>\n",
       "    <tr>\n",
       "      <th>19</th>\n",
       "      <td>diana degette</td>\n",
       "      <td>CO</td>\n",
       "      <td>D</td>\n",
       "      <td>1</td>\n",
       "      <td>Paycheck Fairness Act</td>\n",
       "    </tr>\n",
       "    <tr>\n",
       "      <th>21</th>\n",
       "      <td>mario diaz-balart</td>\n",
       "      <td>FL</td>\n",
       "      <td>R</td>\n",
       "      <td>0</td>\n",
       "      <td>Paycheck Fairness Act</td>\n",
       "    </tr>\n",
       "  </tbody>\n",
       "</table>\n",
       "</div>"
      ],
      "text/plain": [
       "0                name state party  vote                   Bill\n",
       "4     earl blumenauer    OR     D     1  Paycheck Fairness Act\n",
       "5         kevin brady    TX     R     0  Paycheck Fairness Act\n",
       "15    elijah cummings    MD     D     1  Paycheck Fairness Act\n",
       "19      diana degette    CO     D     1  Paycheck Fairness Act\n",
       "21  mario diaz-balart    FL     R     0  Paycheck Fairness Act"
      ]
     },
     "execution_count": 10,
     "metadata": {},
     "output_type": "execute_result"
    }
   ],
   "source": [
    "# create the govtrack csv\n",
    "govtrack_df['vote'] = govtrack_df['vote'].apply(lambda x: 1 if (x == 'Yea' or x == 'Aye') else 0 if (x == 'Nay' or x == 'No') else -1)\n",
    "govtrack_df = govtrack_df.drop('district', axis = 1)\n",
    "govtrack_df = govtrack_df.drop('person', axis = 1)\n",
    "govtrack_df.to_csv('govtrack.csv', index = False)\n",
    "govtrack_df = govtrack_df[['name', 'state', 'party', 'vote', 'Bill']]\n",
    "govtrack_df.head(5)"
   ]
  },
  {
   "cell_type": "markdown",
   "metadata": {},
   "source": [
    "# Data Cleaning"
   ]
  },
  {
   "cell_type": "markdown",
   "metadata": {},
   "source": [
    "We created the Twitter dataset in the duration of this project, which meant that a number of the cleaning steps were carried out in the creation of the dataset. Since we chose to answer our data science question by selecting eight bills that were voted on in the 116th Congress, we filtered each representative’s Twitter history by only selecting Tweets that discerned one of the eight bills.  This was executed by checking whether or not the Tweet contained key words from the bill or a particular hashtag, demonstrating support for or against the bill. The last step taken in cleaning this data was the removal of any non-English words in the Tweet, which was due to the Tweepy library failing to remove all HTML code in the text part of the tweet. Python’s string function: isalpha() was used to remove these invalid parts of the Tweet text.  \n",
    "\n",
    "As for the eight GovTrack CSV files, which contained the votes on all eight bills, the cleaning stage of this dataset involved dropping all rows of congress people who were not selected for analysis. After this first step was taken, the eight CSV files were then merged into a single CSV file, where each row contained a representative and a column corresponding to their party, state, and their votes on the eight bills.  In this step, concern was raised on whether these cleaning steps were properly done since many representatives did not vote on any of the bills. After careful inspection, it was deducted that many representatives were not voting on any of these bills, which is particularly interesting since the congress people were selected by how active and popular they are on Twitter.  \n",
    "\n",
    "With these two datasets cleaned, the next step involved pre-processing the tweets into a numerical representation so that they can be directly compared to their voting pattern, which took on a value of ‘Yay, ‘Nay’, or ‘NA’ (no vote).  In order to categorize the tweets into the main two categories, we had to take a hybrid approach on how the text sentiment was conducted.  Detailed in the bill_sentiment() block of code (which was the function responsible for the text sentiment analysis), each bill contained key words or hashtags that strongly indeicates that politician’s sentiment  on the bill e.g. #trumpswall, which shows clear support for the bill of condemning Trump’s National Emergency to fund building the Mexican-American wall and the hashtag: #illegalimmigration, which supports Trump’s National Emergency, indicating a vote against the bill.  After this initial analysis, further sentiment analysis was carried out by utilizing Google’s Natural Language Processing Text Sentiment Analysis Cloud Tool to categorize the data. This step was particularly difficult to do since the NLP tool could only estimate the positivity and negativity of a tweet, and since many Congressmen and Congresswomen’s tweets on Twitter are of a condescending tone, discerning their view on the topic was beyond the scope of analysis that could be done.  \n",
    "\n",
    "This was a critical limitation on our project because deducing the sentiment in regards to whether or not they approve or disapprove of a bill is a Natural Language Processing Task that leading Deep Learning Researchers are conducting their research on.  Despite this, the Google NLP tool was still used to get the sentiment score, a number between -1 (negative) and 1 (positive) and depending on the bill, this number was multiplied by -1 to capture whether the Congressperson would vote for or against a bill (this was done to standardize the sentiment and align the sentiment score with the predicted vote on a bill). After this step, the list of tweet texts, pertaining to each bill, became a list of sentiment scores, which was then averaged into a single number.  Finally, this score was converted into a 1 if it fell in the range [0.1, 1.0] to indicate support for the bill, a 0 if the score fell in the range [-0.1, 0.1] for a NA (no vote), or -1 if it fell between [-1.0, -0.1], as a vote against the bill.  After these cleaning steps, the dataset was set up to do a simple comparison between their predicted Tweet sentiment score and their recorded vote."
   ]
  },
  {
   "cell_type": "code",
   "execution_count": 13,
   "metadata": {},
   "outputs": [],
   "source": [
    "# pass in a string and perform sentiment analysis on it.\n",
    "def sentimentAnalysis(text):\n",
    "    document = types.Document(content=text, type=enums.Document.Type.PLAIN_TEXT)\n",
    "    \n",
    "    # Detects the sentiment of the text\n",
    "    sentiment = client.analyze_sentiment(document=document).document_sentiment\n",
    "    \n",
    "    return sentiment.score, sentiment.magnitude\n",
    "    "
   ]
  },
  {
   "cell_type": "markdown",
   "metadata": {},
   "source": [
    "The following code performs data cleaning via the following:\n",
    "- removes the separator token 'u\\', which separates indivdual tweets\n",
    "- performs sentiment analysis on each individual tweet \n",
    "- puts the results in the Dataframe tweets_df and an excel file `tweet_sentiment_analysis.csv`."
   ]
  },
  {
   "cell_type": "code",
   "execution_count": null,
   "metadata": {},
   "outputs": [],
   "source": [
    "tweets_df = pd.read_csv('tweets_by_bill')\n",
    "\n",
    "all_sentiment_scores = []\n",
    "avg_scores = []\n",
    "mdn_scores = []\n",
    "rng_scores = [] \n",
    "var_scores = [] \n",
    "std_dev_scores = []\n",
    "\n",
    "for bill, tweets in zip(tweets_df['Bill #'], tweets_df['Tweet']):\n",
    "    \n",
    "    tweet_scores = []\n",
    "    \n",
    "    for twt in tweets.split('u\\''): \n",
    "        # Clean tweet\n",
    "        twt = ' '.join([word.lower() for word in twt.split(' ') if word.isalpha()])\n",
    "        \n",
    "        # Skip empty strings\n",
    "        if twt == '': continue \n",
    "            \n",
    "        # To not overload Google API\n",
    "        time.sleep(1)\n",
    "            \n",
    "        # Evaluate by bill\n",
    "        tweet_scores.append(bill_sentiment(twt, bill))\n",
    "    \n",
    "        \n",
    "    # Add list of scores to Dataframe\n",
    "    all_sentiment_scores.append(tweet_scores)\n",
    "    \n",
    "    # Get AVERAGE tweet sentiment score\n",
    "    avg = sum(tweet_scores) * 1.0 / len(tweet_scores)\n",
    "    avg_scores.append(avg)\n",
    "        \n",
    "    # Get MEDIAN tweet sentiment score\n",
    "    sorted_tweet_scores = sorted(tweet_scores)\n",
    "    mdn = sorted_tweet_scores[len(tweet_scores) / 2]\n",
    "    mdn_scores.append(mdn)\n",
    "        \n",
    "    # Get RANGE tweet sentiment score\n",
    "    rng = sorted_tweet_scores[len(tweet_scores) - 1] - sorted_tweet_scores[0]\n",
    "    rng_scores.append(rng)\n",
    "        \n",
    "    # Get VARIANCE tweet sentiment score\n",
    "    if len (tweet_scores) <= 1:\n",
    "        var = sum([(score - avg)**2 for score in tweet_scores]) \n",
    "    else:\n",
    "        var = sum([(score - avg)**2 for score in tweet_scores]) * 1.0 / (len(tweet_scores) - 1)\n",
    "    var_scores.append(var)\n",
    "    \n",
    "    # Get STD DEVIATION tweet sentiment score\n",
    "    std_dev = var**(1/2)\n",
    "    std_dev_scores.append(std_dev)\n",
    "         \n",
    "# Add to dataframe\n",
    "tweets_df['Sentiment Scores'] = all_sentiment_scores\n",
    "tweets_df['Average'] = avg_scores\n",
    "tweets_df['Median'] = mdn_scores\n",
    "tweets_df['Range'] = rng_scores\n",
    "tweets_df['Variance'] = var_scores\n",
    "tweets_df['Standard Deviation'] = std_dev_scores\n",
    "\n",
    "# Export new file\n",
    "tweets_df.to_csv('tweet_sentiment_analysis')"
   ]
  },
  {
   "cell_type": "code",
   "execution_count": 14,
   "metadata": {},
   "outputs": [],
   "source": [
    "#Note: 1 >= score > 0    Vote YES on bill\n",
    "#      0 >= score >= -1  Vote NO on bill\n",
    "def bill_sentiment(tweet, bill):\n",
    "    if bill == \"Save the Internet\":\n",
    "        if ('#savetheinternet' in tweet) or ('#netneutrality' in tweet) or ('neutrality' in tweet):\n",
    "            return 1.0\n",
    "        \n",
    "        score, mag = sentimentAnalysis(tweet)\n",
    "        \n",
    "        return -1 * score\n",
    "               \n",
    "    elif bill == \"Health Care\":\n",
    "        if ('#medicareforall' in tweet) or ('#universalhealthcare' in tweet):\n",
    "            return 1.0\n",
    "        \n",
    "        score, mag = sentimentAnalysis(tweet)\n",
    "        \n",
    "        return -1 * score\n",
    "        \n",
    "    elif bill == \"Paycheck Fairness Act\":\n",
    "        if 'genderinequality' in tweet:\n",
    "            return 1.0\n",
    "        \n",
    "        score, mag = sentimentAnalysis(tweet)\n",
    "        \n",
    "        return -1 * score\n",
    "        \n",
    "    elif bill == \"For the People Act 2019\":\n",
    "        if ('#votingrights' in tweet) or ('#riggedelections' in tweet) or ('#forthepeople' in tweet):\n",
    "            return 1.0\n",
    "   \n",
    "        score, mag = sentimentAnalysis(tweet)\n",
    "        \n",
    "        return -1 * score\n",
    "        \n",
    "    elif bill == \"Background Check for Firearms\":\n",
    "        if ('#guncontrol' in tweet) or ('#gunviolence' in tweet) or ('gunreform' in tweet):\n",
    "            return 1.0\n",
    "        if ('#gunrights' in tweet) or  ('noguncontrol' in tweet):\n",
    "            return -1.0\n",
    "        \n",
    "        score, mag = sentimentAnalysis(tweet)\n",
    "        \n",
    "        return score\n",
    "        \n",
    "    \n",
    "    elif bill == \"Remove Troops from Yemen\":\n",
    "        if '#yemengenocide' in tweet:\n",
    "            return 1.0\n",
    "        \n",
    "        score, mag = sentimentAnalysis(tweet)\n",
    "        \n",
    "        return -1 * score\n",
    "    \n",
    "    elif bill == \"Violence against Women Reauthorization Act\":\n",
    "        if ('#violenceagainstwomen' in tweet) or ('#genderbasedviolence' in tweet) or ('#sexualviolence' in tweet):\n",
    "            return 1.0\n",
    "        \n",
    "        score, mag = sentimentAnalysis(tweet)\n",
    "        \n",
    "        return -1 * score\n",
    "    \n",
    "    elif bill == \"Trump's National Emergency\":\n",
    "        if  '#trumpswall' in tweet:\n",
    "            return 1.0\n",
    "        \n",
    "        if ('#buildthewall' in tweet) or ('#buildthewallnow' in tweet) or ('#bordercrises' in tweet) or ('#illegalimmigration' in tweet) or ('illegal' in tweet):\n",
    "            return -1.0\n",
    "        \n",
    "        score, mag = sentimentAnalysis(tweet)\n",
    "        \n",
    "        return -1 * score\n",
    "              \n",
    "    else:\n",
    "        return 0"
   ]
  },
  {
   "cell_type": "markdown",
   "metadata": {},
   "source": [
    "# Data Analysis & Results"
   ]
  },
  {
   "cell_type": "markdown",
   "metadata": {},
   "source": [
    "Our data analysis will consist of several steps:\n",
    "1. Analyzing which politicians tweet the most about which topics\n",
    "2. Analyzing the sentiments of the tweets politicians publish"
   ]
  },
  {
   "cell_type": "code",
   "execution_count": 11,
   "metadata": {},
   "outputs": [
    {
     "data": {
      "text/html": [
       "<div>\n",
       "<style scoped>\n",
       "    .dataframe tbody tr th:only-of-type {\n",
       "        vertical-align: middle;\n",
       "    }\n",
       "\n",
       "    .dataframe tbody tr th {\n",
       "        vertical-align: top;\n",
       "    }\n",
       "\n",
       "    .dataframe thead th {\n",
       "        text-align: right;\n",
       "    }\n",
       "</style>\n",
       "<table border=\"1\" class=\"dataframe\">\n",
       "  <thead>\n",
       "    <tr style=\"text-align: right;\">\n",
       "      <th></th>\n",
       "      <th>Background Check for Firearms</th>\n",
       "      <th>For the People Act 2019</th>\n",
       "      <th>Health Care</th>\n",
       "      <th>Paycheck Fairness Act</th>\n",
       "      <th>Remove Troops from Yemen</th>\n",
       "      <th>Save the Internet</th>\n",
       "      <th>Trump's National Emergency</th>\n",
       "      <th>Violence against Women Reauthorization Act</th>\n",
       "    </tr>\n",
       "  </thead>\n",
       "  <tbody>\n",
       "    <tr>\n",
       "      <th>count</th>\n",
       "      <td>116.000000</td>\n",
       "      <td>116.000000</td>\n",
       "      <td>116.000000</td>\n",
       "      <td>117.000000</td>\n",
       "      <td>115.000000</td>\n",
       "      <td>110.000000</td>\n",
       "      <td>117.000000</td>\n",
       "      <td>117.000000</td>\n",
       "    </tr>\n",
       "    <tr>\n",
       "      <th>mean</th>\n",
       "      <td>45.681034</td>\n",
       "      <td>96.517241</td>\n",
       "      <td>96.017241</td>\n",
       "      <td>97.991453</td>\n",
       "      <td>30.356522</td>\n",
       "      <td>11.318182</td>\n",
       "      <td>76.341880</td>\n",
       "      <td>48.145299</td>\n",
       "    </tr>\n",
       "    <tr>\n",
       "      <th>std</th>\n",
       "      <td>36.887985</td>\n",
       "      <td>53.994925</td>\n",
       "      <td>66.037405</td>\n",
       "      <td>66.894474</td>\n",
       "      <td>31.470730</td>\n",
       "      <td>12.732918</td>\n",
       "      <td>42.527509</td>\n",
       "      <td>39.478992</td>\n",
       "    </tr>\n",
       "    <tr>\n",
       "      <th>min</th>\n",
       "      <td>5.000000</td>\n",
       "      <td>6.000000</td>\n",
       "      <td>9.000000</td>\n",
       "      <td>2.000000</td>\n",
       "      <td>2.000000</td>\n",
       "      <td>1.000000</td>\n",
       "      <td>6.000000</td>\n",
       "      <td>1.000000</td>\n",
       "    </tr>\n",
       "    <tr>\n",
       "      <th>25%</th>\n",
       "      <td>20.000000</td>\n",
       "      <td>61.500000</td>\n",
       "      <td>44.750000</td>\n",
       "      <td>49.000000</td>\n",
       "      <td>16.000000</td>\n",
       "      <td>3.000000</td>\n",
       "      <td>47.000000</td>\n",
       "      <td>21.000000</td>\n",
       "    </tr>\n",
       "    <tr>\n",
       "      <th>50%</th>\n",
       "      <td>37.500000</td>\n",
       "      <td>93.500000</td>\n",
       "      <td>85.000000</td>\n",
       "      <td>76.000000</td>\n",
       "      <td>23.000000</td>\n",
       "      <td>7.000000</td>\n",
       "      <td>68.000000</td>\n",
       "      <td>33.000000</td>\n",
       "    </tr>\n",
       "    <tr>\n",
       "      <th>75%</th>\n",
       "      <td>55.000000</td>\n",
       "      <td>126.750000</td>\n",
       "      <td>131.500000</td>\n",
       "      <td>136.000000</td>\n",
       "      <td>32.500000</td>\n",
       "      <td>13.750000</td>\n",
       "      <td>98.000000</td>\n",
       "      <td>59.000000</td>\n",
       "    </tr>\n",
       "    <tr>\n",
       "      <th>max</th>\n",
       "      <td>292.000000</td>\n",
       "      <td>450.000000</td>\n",
       "      <td>361.000000</td>\n",
       "      <td>356.000000</td>\n",
       "      <td>267.000000</td>\n",
       "      <td>68.000000</td>\n",
       "      <td>279.000000</td>\n",
       "      <td>179.000000</td>\n",
       "    </tr>\n",
       "  </tbody>\n",
       "</table>\n",
       "</div>"
      ],
      "text/plain": [
       "       Background Check for Firearms  For the People Act 2019  Health Care  \\\n",
       "count                     116.000000               116.000000   116.000000   \n",
       "mean                       45.681034                96.517241    96.017241   \n",
       "std                        36.887985                53.994925    66.037405   \n",
       "min                         5.000000                 6.000000     9.000000   \n",
       "25%                        20.000000                61.500000    44.750000   \n",
       "50%                        37.500000                93.500000    85.000000   \n",
       "75%                        55.000000               126.750000   131.500000   \n",
       "max                       292.000000               450.000000   361.000000   \n",
       "\n",
       "       Paycheck Fairness Act  Remove Troops from Yemen  Save the Internet  \\\n",
       "count             117.000000                115.000000         110.000000   \n",
       "mean               97.991453                 30.356522          11.318182   \n",
       "std                66.894474                 31.470730          12.732918   \n",
       "min                 2.000000                  2.000000           1.000000   \n",
       "25%                49.000000                 16.000000           3.000000   \n",
       "50%                76.000000                 23.000000           7.000000   \n",
       "75%               136.000000                 32.500000          13.750000   \n",
       "max               356.000000                267.000000          68.000000   \n",
       "\n",
       "       Trump's National Emergency  Violence against Women Reauthorization Act  \n",
       "count                  117.000000                                  117.000000  \n",
       "mean                    76.341880                                   48.145299  \n",
       "std                     42.527509                                   39.478992  \n",
       "min                      6.000000                                    1.000000  \n",
       "25%                     47.000000                                   21.000000  \n",
       "50%                     68.000000                                   33.000000  \n",
       "75%                     98.000000                                   59.000000  \n",
       "max                    279.000000                                  179.000000  "
      ]
     },
     "execution_count": 11,
     "metadata": {},
     "output_type": "execute_result"
    }
   ],
   "source": [
    "dataAnalysis = pd.read_csv('tweet_counts.csv')\n",
    "dataAnalysis.describe()"
   ]
  },
  {
   "cell_type": "code",
   "execution_count": 12,
   "metadata": {},
   "outputs": [
    {
     "data": {
      "text/html": [
       "<div>\n",
       "<style scoped>\n",
       "    .dataframe tbody tr th:only-of-type {\n",
       "        vertical-align: middle;\n",
       "    }\n",
       "\n",
       "    .dataframe tbody tr th {\n",
       "        vertical-align: top;\n",
       "    }\n",
       "\n",
       "    .dataframe thead th {\n",
       "        text-align: right;\n",
       "    }\n",
       "</style>\n",
       "<table border=\"1\" class=\"dataframe\">\n",
       "  <thead>\n",
       "    <tr style=\"text-align: right;\">\n",
       "      <th></th>\n",
       "      <th>Unnamed: 0</th>\n",
       "      <th>Name</th>\n",
       "      <th>Party</th>\n",
       "      <th>Twitter Handle</th>\n",
       "      <th>Bill #</th>\n",
       "      <th>Tweet</th>\n",
       "    </tr>\n",
       "  </thead>\n",
       "  <tbody>\n",
       "    <tr>\n",
       "      <th>0</th>\n",
       "      <td>0</td>\n",
       "      <td>Earl Blumenauer</td>\n",
       "      <td>D</td>\n",
       "      <td>@repblumenauer</td>\n",
       "      <td>Save the Internet</td>\n",
       "      <td>[u'Maintaining a free and open internet is cri...</td>\n",
       "    </tr>\n",
       "    <tr>\n",
       "      <th>1</th>\n",
       "      <td>1</td>\n",
       "      <td>Daniel Webster</td>\n",
       "      <td>R</td>\n",
       "      <td>@RepWebster</td>\n",
       "      <td>Save the Internet</td>\n",
       "      <td>[u'Great to tour @ThatCompanycom, an internet ...</td>\n",
       "    </tr>\n",
       "    <tr>\n",
       "      <th>2</th>\n",
       "      <td>2</td>\n",
       "      <td>John Barrasso</td>\n",
       "      <td>R</td>\n",
       "      <td>@SenJohnBarrasso</td>\n",
       "      <td>Save the Internet</td>\n",
       "      <td>[u'RT @Senate_RPC: [New] The internet thrived ...</td>\n",
       "    </tr>\n",
       "    <tr>\n",
       "      <th>3</th>\n",
       "      <td>3</td>\n",
       "      <td>Louie Gohmert</td>\n",
       "      <td>R</td>\n",
       "      <td>@RepLouieGohmert</td>\n",
       "      <td>Save the Internet</td>\n",
       "      <td>[u'\"The bill is referred to as net neutrality ...</td>\n",
       "    </tr>\n",
       "    <tr>\n",
       "      <th>4</th>\n",
       "      <td>4</td>\n",
       "      <td>Steve King</td>\n",
       "      <td>R</td>\n",
       "      <td>@SteveKingIA</td>\n",
       "      <td>Save the Internet</td>\n",
       "      <td>[u'Not one gray head in entire packed gallery ...</td>\n",
       "    </tr>\n",
       "  </tbody>\n",
       "</table>\n",
       "</div>"
      ],
      "text/plain": [
       "   Unnamed: 0             Name Party     Twitter Handle             Bill #  \\\n",
       "0           0  Earl Blumenauer     D     @repblumenauer  Save the Internet   \n",
       "1           1  Daniel Webster      R        @RepWebster  Save the Internet   \n",
       "2           2    John Barrasso     R   @SenJohnBarrasso  Save the Internet   \n",
       "3           3   Louie Gohmert      R  @RepLouieGohmert   Save the Internet   \n",
       "4           4       Steve King     R       @SteveKingIA  Save the Internet   \n",
       "\n",
       "                                               Tweet  \n",
       "0  [u'Maintaining a free and open internet is cri...  \n",
       "1  [u'Great to tour @ThatCompanycom, an internet ...  \n",
       "2  [u'RT @Senate_RPC: [New] The internet thrived ...  \n",
       "3  [u'\"The bill is referred to as net neutrality ...  \n",
       "4  [u'Not one gray head in entire packed gallery ...  "
      ]
     },
     "execution_count": 12,
     "metadata": {},
     "output_type": "execute_result"
    }
   ],
   "source": [
    "billAnalysis = pd.read_csv('tweets_by_bill')\n",
    "billAnalysis.head(5)"
   ]
  },
  {
   "cell_type": "code",
   "execution_count": 13,
   "metadata": {},
   "outputs": [
    {
     "data": {
      "text/html": [
       "<div>\n",
       "<style scoped>\n",
       "    .dataframe tbody tr th:only-of-type {\n",
       "        vertical-align: middle;\n",
       "    }\n",
       "\n",
       "    .dataframe tbody tr th {\n",
       "        vertical-align: top;\n",
       "    }\n",
       "\n",
       "    .dataframe thead th {\n",
       "        text-align: right;\n",
       "    }\n",
       "</style>\n",
       "<table border=\"1\" class=\"dataframe\">\n",
       "  <thead>\n",
       "    <tr style=\"text-align: right;\">\n",
       "      <th></th>\n",
       "      <th>Unnamed: 0</th>\n",
       "      <th>Name</th>\n",
       "      <th>Party</th>\n",
       "      <th>Twitter Handle</th>\n",
       "      <th>Bill #</th>\n",
       "      <th>Tweet</th>\n",
       "      <th>Twt_Count</th>\n",
       "    </tr>\n",
       "  </thead>\n",
       "  <tbody>\n",
       "    <tr>\n",
       "      <th>0</th>\n",
       "      <td>0</td>\n",
       "      <td>Earl Blumenauer</td>\n",
       "      <td>D</td>\n",
       "      <td>@repblumenauer</td>\n",
       "      <td>Save the Internet</td>\n",
       "      <td>[u'Maintaining a free and open internet is cri...</td>\n",
       "      <td>23</td>\n",
       "    </tr>\n",
       "    <tr>\n",
       "      <th>1</th>\n",
       "      <td>1</td>\n",
       "      <td>Daniel Webster</td>\n",
       "      <td>R</td>\n",
       "      <td>@RepWebster</td>\n",
       "      <td>Save the Internet</td>\n",
       "      <td>[u'Great to tour @ThatCompanycom, an internet ...</td>\n",
       "      <td>2</td>\n",
       "    </tr>\n",
       "    <tr>\n",
       "      <th>2</th>\n",
       "      <td>2</td>\n",
       "      <td>John Barrasso</td>\n",
       "      <td>R</td>\n",
       "      <td>@SenJohnBarrasso</td>\n",
       "      <td>Save the Internet</td>\n",
       "      <td>[u'RT @Senate_RPC: [New] The internet thrived ...</td>\n",
       "      <td>1</td>\n",
       "    </tr>\n",
       "    <tr>\n",
       "      <th>3</th>\n",
       "      <td>3</td>\n",
       "      <td>Louie Gohmert</td>\n",
       "      <td>R</td>\n",
       "      <td>@RepLouieGohmert</td>\n",
       "      <td>Save the Internet</td>\n",
       "      <td>[u'\"The bill is referred to as net neutrality ...</td>\n",
       "      <td>5</td>\n",
       "    </tr>\n",
       "    <tr>\n",
       "      <th>4</th>\n",
       "      <td>4</td>\n",
       "      <td>Steve King</td>\n",
       "      <td>R</td>\n",
       "      <td>@SteveKingIA</td>\n",
       "      <td>Save the Internet</td>\n",
       "      <td>[u'Not one gray head in entire packed gallery ...</td>\n",
       "      <td>2</td>\n",
       "    </tr>\n",
       "  </tbody>\n",
       "</table>\n",
       "</div>"
      ],
      "text/plain": [
       "   Unnamed: 0             Name Party     Twitter Handle             Bill #  \\\n",
       "0           0  Earl Blumenauer     D     @repblumenauer  Save the Internet   \n",
       "1           1  Daniel Webster      R        @RepWebster  Save the Internet   \n",
       "2           2    John Barrasso     R   @SenJohnBarrasso  Save the Internet   \n",
       "3           3   Louie Gohmert      R  @RepLouieGohmert   Save the Internet   \n",
       "4           4       Steve King     R       @SteveKingIA  Save the Internet   \n",
       "\n",
       "                                               Tweet  Twt_Count  \n",
       "0  [u'Maintaining a free and open internet is cri...         23  \n",
       "1  [u'Great to tour @ThatCompanycom, an internet ...          2  \n",
       "2  [u'RT @Senate_RPC: [New] The internet thrived ...          1  \n",
       "3  [u'\"The bill is referred to as net neutrality ...          5  \n",
       "4  [u'Not one gray head in entire packed gallery ...          2  "
      ]
     },
     "execution_count": 13,
     "metadata": {},
     "output_type": "execute_result"
    }
   ],
   "source": [
    "billAnalysis['Twt_Count'] = billAnalysis['Tweet'].apply(lambda x: len(ast.literal_eval(x)))\n",
    "\n",
    "count_pivot = billAnalysis.pivot_table(index = 'Name', columns = 'Bill #', values = 'Twt_Count')\n",
    "\n",
    "billAnalysis.head(5)"
   ]
  },
  {
   "cell_type": "code",
   "execution_count": 14,
   "metadata": {},
   "outputs": [
    {
     "name": "stdout",
     "output_type": "stream",
     "text": [
      "lower bound: -32.5\n",
      "upper bound: 107.5\n",
      "5 outliers exceed our upper bound of 107.5\n",
      "Robin Kellyis an outlier for Background Check for Firearms at 292 tweets\n",
      "Katherine Clarkis an outlier for Background Check for Firearms at 150 tweets\n",
      "Thomas Massieis an outlier for Background Check for Firearms at 118 tweets\n",
      "Brenda Lawrenceis an outlier for Background Check for Firearms at 115 tweets\n",
      "Suzanne Bonamiciis an outlier for Background Check for Firearms at 113 tweets\n"
     ]
    },
    {
     "data": {
      "image/png": "[encoded data removed]",
      "text/plain": [
       "<Figure size 432x288 with 1 Axes>"
      ]
     },
     "metadata": {
      "needs_background": "light"
     },
     "output_type": "display_data"
    }
   ],
   "source": [
    "dataAnalysis['Background Check for Firearms'].plot.hist(bins=25, alpha=0.5)\n",
    "f1 = plt.gcf()\n",
    "plt.title('Background Check for Firearms tweets')\n",
    "plt.xlabel('Number of tweets')\n",
    "plt.ylabel('Number of politicians')\n",
    "backData = dataAnalysis['Background Check for Firearms'].dropna()\n",
    "q1, q3= np.percentile(sorted(backData),[25,75])\n",
    "iqr = q3 - q1\n",
    "lower_bound = q1 -(1.5 * iqr) \n",
    "upper_bound = q3 +(1.5 * iqr)\n",
    "print(\"lower bound:\", lower_bound)\n",
    "print(\"upper bound:\", upper_bound)\n",
    "dataAnalysis['Background Check for Firearms'].sort_values(ascending = False)\n",
    "print(\"5 outliers exceed our upper bound of\", upper_bound)\n",
    "print(dataAnalysis.loc[93, 'Name']+ \"is an outlier for Background Check for Firearms at 292 tweets\")\n",
    "print(dataAnalysis.loc[59, 'Name']+ \"is an outlier for Background Check for Firearms at 150 tweets\")\n",
    "print(dataAnalysis.loc[110, 'Name']+ \"is an outlier for Background Check for Firearms at 118 tweets\")\n",
    "print(dataAnalysis.loc[14, 'Name']+ \"is an outlier for Background Check for Firearms at 115 tweets\")\n",
    "print(dataAnalysis.loc[106, 'Name']+ \"is an outlier for Background Check for Firearms at 113 tweets\")"
   ]
  },
  {
   "cell_type": "code",
   "execution_count": 15,
   "metadata": {},
   "outputs": [
    {
     "name": "stdout",
     "output_type": "stream",
     "text": [
      "lower bound: -36.375\n",
      "upper bound: 224.625\n",
      "two outliers exceed our upper bound of 224.625\n",
      "Terri Sewellis an outlier for For the People Act 2019 at 450 tweets\n",
      "Marc Veaseyis an outlier for For the People Act 2019 at 231 tweets\n"
     ]
    },
    {
     "data": {
      "image/png": "[encoded data removed]",
      "text/plain": [
       "<Figure size 432x288 with 1 Axes>"
      ]
     },
     "metadata": {
      "needs_background": "light"
     },
     "output_type": "display_data"
    }
   ],
   "source": [
    "dataAnalysis['For the People Act 2019'].plot.hist(bins=25, alpha=0.5)\n",
    "f2 = plt.gcf()\n",
    "plt.title('For the People Act 2019 tweets')\n",
    "plt.xlabel('Number of tweets')\n",
    "plt.ylabel('Number of politicians')\n",
    "forPeopleData = dataAnalysis['For the People Act 2019'].dropna()\n",
    "q1, q3= np.percentile(sorted(forPeopleData),[25,75])\n",
    "iqr = q3 - q1\n",
    "lower_bound = q1 -(1.5 * iqr) \n",
    "upper_bound = q3 +(1.5 * iqr)\n",
    "print(\"lower bound:\", lower_bound)\n",
    "print(\"upper bound:\", upper_bound)\n",
    "dataAnalysis['For the People Act 2019'].sort_values(ascending = False)\n",
    "print(\"two outliers exceed our upper bound of\", upper_bound)\n",
    "print(dataAnalysis.loc[109, 'Name']+ \"is an outlier for For the People Act 2019 at 450 tweets\")\n",
    "print(dataAnalysis.loc[67, 'Name']+ \"is an outlier for For the People Act 2019 at 231 tweets\")"
   ]
  },
  {
   "cell_type": "code",
   "execution_count": 16,
   "metadata": {},
   "outputs": [
    {
     "name": "stdout",
     "output_type": "stream",
     "text": [
      "lower bound: -85.375\n",
      "upper bound: 261.625\n",
      "Pramila Jayapalis an outlier for Health Care at 361 tweets\n",
      "Joe Kennedyis an outlier for Health Care at 307 tweets\n",
      "Kathy Castoris an outlier for Health Care at 280 tweets\n"
     ]
    },
    {
     "data": {
      "image/png": "[encoded data removed]",
      "text/plain": [
       "<Figure size 432x288 with 1 Axes>"
      ]
     },
     "metadata": {
      "needs_background": "light"
     },
     "output_type": "display_data"
    }
   ],
   "source": [
    "dataAnalysis['Health Care'].plot.hist(bins=25, alpha=0.5)\n",
    "f3 = plt.gcf()\n",
    "plt.title('Health Care tweets')\n",
    "plt.xlabel('Number of tweets')\n",
    "plt.ylabel('Number of politicians')\n",
    "healthCareData = dataAnalysis['Health Care'].dropna()\n",
    "q1, q3= np.percentile(sorted(healthCareData),[25,75])\n",
    "iqr = q3 - q1\n",
    "lower_bound = q1 -(1.5 * iqr)\n",
    "upper_bound = q3 +(1.5 * iqr)\n",
    "print(\"lower bound:\", lower_bound)\n",
    "print(\"upper bound:\", upper_bound)\n",
    "dataAnalysis['Health Care'].sort_values(ascending = False)\n",
    "print(dataAnalysis.loc[88, 'Name']+ \"is an outlier for Health Care at 361 tweets\")\n",
    "print(dataAnalysis.loc[47, 'Name']+ \"is an outlier for Health Care at 307 tweets\")\n",
    "print(dataAnalysis.loc[60, 'Name']+ \"is an outlier for Health Care at 280 tweets\")"
   ]
  },
  {
   "cell_type": "code",
   "execution_count": 17,
   "metadata": {},
   "outputs": [
    {
     "name": "stdout",
     "output_type": "stream",
     "text": [
      "lower bound: -81.5\n",
      "upper bound: 266.5\n",
      "There are 3 outliers that exceed the upper bound of 266.5\n",
      "Terri Sewellis an outlier for Paycheck Fairness Act at 356 tweets\n",
      "Barbra Leeis an outlier for Paycheck Fairness Act at 284 tweets\n",
      "Brenda Lawrenceis an outlier for Paycheck Fairness Act at 278 tweets\n"
     ]
    },
    {
     "data": {
      "image/png": "[encoded data removed]",
      "text/plain": [
       "<Figure size 432x288 with 1 Axes>"
      ]
     },
     "metadata": {
      "needs_background": "light"
     },
     "output_type": "display_data"
    }
   ],
   "source": [
    "dataAnalysis['Paycheck Fairness Act'].plot.hist(bins=25, alpha=0.5)\n",
    "f4 = plt.gcf()\n",
    "plt.title('Paycheck Fairness Act tweets')\n",
    "plt.xlabel('Number of tweets')\n",
    "plt.ylabel('Number of politicians')\n",
    "q1, q3= np.percentile(sorted(dataAnalysis['Paycheck Fairness Act']),[25,75])\n",
    "iqr = q3 - q1\n",
    "lower_bound = q1 -(1.5 * iqr) \n",
    "upper_bound = q3 +(1.5 * iqr)\n",
    "print(\"lower bound:\", lower_bound)\n",
    "print(\"upper bound:\", upper_bound)\n",
    "dataAnalysis['Paycheck Fairness Act'].sort_values(ascending = False)\n",
    "print(\"There are 3 outliers that exceed the upper bound of\", upper_bound)\n",
    "print(dataAnalysis.loc[109, 'Name']+ \"is an outlier for Paycheck Fairness Act at 356 tweets\")\n",
    "print(dataAnalysis.loc[7, 'Name']+ \"is an outlier for Paycheck Fairness Act at 284 tweets\")\n",
    "print(dataAnalysis.loc[14, 'Name']+ \"is an outlier for Paycheck Fairness Act at 278 tweets\")"
   ]
  },
  {
   "cell_type": "code",
   "execution_count": 18,
   "metadata": {},
   "outputs": [
    {
     "name": "stdout",
     "output_type": "stream",
     "text": [
      "lower bound: -8.75\n",
      "upper bound: 57.25\n",
      "Ro Khanna is an outlier for Remove Troops from Yemen at 267 tweets\n",
      "Barbra Lee is an outlier for Remove Troops from Yemen at 142 tweets\n",
      "Tulsi Gabbard is an outlier for Remove Troops from Yemen at 117 tweets\n",
      "Terri Sewell is an outlier for Remove Troops from Yemen at 89 tweets\n",
      "Seth Moulton is an outlier for Remove Troops from Yemen at 87 tweets\n",
      "Joe Kennedy is an outlier for Remove Troops from Yemen at 83 tweets\n",
      "Mark Pocan is an outlier for Remove Troops from Yemen at 71 tweets\n",
      "Adam Schiff is an outlier for Remove Troops from Yemen at 70 tweets\n",
      "Ted Lieu is an outlier for Remove Troops from Yemen at 66 tweets\n",
      "Thomas Massie is an outlier for Remove Troops from Yemen at 65 tweets\n",
      "Ruben Gallego is an outlier for Remove Troops from Yemen at 61 tweets\n",
      "Adam Kinzinger is an outlier for Remove Troops from Yemen at 59 tweets\n"
     ]
    },
    {
     "data": {
      "image/png": "[encoded data removed]",
      "text/plain": [
       "<Figure size 432x288 with 1 Axes>"
      ]
     },
     "metadata": {
      "needs_background": "light"
     },
     "output_type": "display_data"
    }
   ],
   "source": [
    "dataAnalysis['Remove Troops from Yemen'].plot.hist(bins=25, alpha=0.5)\n",
    "f5 = plt.gcf()\n",
    "plt.title('Remove Troops from Yemen tweets')\n",
    "plt.xlabel('Number of tweets')\n",
    "plt.ylabel('Number of politicians')\n",
    "YemenData = dataAnalysis['Remove Troops from Yemen'].dropna()\n",
    "q1, q3= np.percentile(sorted(YemenData),[25,75])\n",
    "iqr = q3 - q1\n",
    "lower_bound = q1 -(1.5 * iqr) \n",
    "upper_bound = q3 +(1.5 * iqr)\n",
    "print(\"lower bound:\", lower_bound)\n",
    "print(\"upper bound:\", upper_bound)\n",
    "dataAnalysis['Remove Troops from Yemen'].sort_values(ascending = False)\n",
    "#number 91 is an outlier at 267 tweets.\n",
    "print(dataAnalysis.loc[91, 'Name']+ \" is an outlier for Remove Troops from Yemen at 267 tweets\")\n",
    "print(dataAnalysis.loc[7, 'Name']+ \" is an outlier for Remove Troops from Yemen at 142 tweets\")\n",
    "print(dataAnalysis.loc[113, 'Name']+ \" is an outlier for Remove Troops from Yemen at 117 tweets\")\n",
    "print(dataAnalysis.loc[109, 'Name']+ \" is an outlier for Remove Troops from Yemen at 89 tweets\")\n",
    "print(dataAnalysis.loc[99, 'Name']+ \" is an outlier for Remove Troops from Yemen at 87 tweets\")\n",
    "print(dataAnalysis.loc[47, 'Name']+ \" is an outlier for Remove Troops from Yemen at 83 tweets\")\n",
    "print(dataAnalysis.loc[73, 'Name']+ \" is an outlier for Remove Troops from Yemen at 71 tweets\")\n",
    "print(dataAnalysis.loc[1, 'Name']+ \" is an outlier for Remove Troops from Yemen at 70 tweets\")\n",
    "print(dataAnalysis.loc[107, 'Name']+ \" is an outlier for Remove Troops from Yemen at 66 tweets\")\n",
    "print(dataAnalysis.loc[110, 'Name']+ \" is an outlier for Remove Troops from Yemen at 65 tweets\")\n",
    "print(dataAnalysis.loc[94, 'Name']+ \" is an outlier for Remove Troops from Yemen at 61 tweets\")\n",
    "print(dataAnalysis.loc[0, 'Name']+ \" is an outlier for Remove Troops from Yemen at 59 tweets\")"
   ]
  },
  {
   "cell_type": "code",
   "execution_count": 19,
   "metadata": {},
   "outputs": [
    {
     "name": "stdout",
     "output_type": "stream",
     "text": [
      "lower bound: -13.125\n",
      "upper bound: 29.875\n",
      "Sean Maloney is an outlier for Save the Internet at 68 tweets\n",
      "Tulsi Gabbard is an outlier for Save the Internet at 56 tweets\n",
      "Ro Khanna is an outlier for Save the Internet at 50 tweets\n",
      "Kathy Castor is an outlier for Save the Internet at 49 tweets\n",
      "Nancy Pelosi is an outlier for Save the Internet at 42 tweets\n",
      "Bob Latta is an outlier for Save the Internet at 42 tweets\n",
      "Peter Welch is an outlier for Save the Internet at 41 tweets\n",
      "Mark Pocan is an outlier for Save the Internet at 39 tweets\n"
     ]
    },
    {
     "data": {
      "image/png": "[encoded data removed]",
      "text/plain": [
       "<Figure size 432x288 with 1 Axes>"
      ]
     },
     "metadata": {
      "needs_background": "light"
     },
     "output_type": "display_data"
    }
   ],
   "source": [
    "dataAnalysis['Save the Internet'].plot.hist(bins=25, alpha=0.5)\n",
    "f6 = plt.gcf()\n",
    "plt.title('Save the Internet tweets')\n",
    "plt.xlabel('Number of tweets')\n",
    "plt.ylabel('Number of politicians')\n",
    "saveInternetData = dataAnalysis['Save the Internet'].dropna()\n",
    "q1, q3= np.percentile(sorted(saveInternetData),[25,75])\n",
    "iqr = q3 - q1\n",
    "lower_bound = q1 -(1.5 * iqr) \n",
    "upper_bound = q3 +(1.5 * iqr)\n",
    "print(\"lower bound:\", lower_bound)\n",
    "print(\"upper bound:\", upper_bound)\n",
    "dataAnalysis['Save the Internet'].sort_values(ascending = False)\n",
    "print(dataAnalysis.loc[98, 'Name']+ \" is an outlier for Save the Internet at 68 tweets\")\n",
    "print(dataAnalysis.loc[113, 'Name']+ \" is an outlier for Save the Internet at 56 tweets\")\n",
    "print(dataAnalysis.loc[91, 'Name']+ \" is an outlier for Save the Internet at 50 tweets\")\n",
    "print(dataAnalysis.loc[60, 'Name']+ \" is an outlier for Save the Internet at 49 tweets\")\n",
    "print(dataAnalysis.loc[82, 'Name']+ \" is an outlier for Save the Internet at 42 tweets\")\n",
    "print(dataAnalysis.loc[13, 'Name']+ \" is an outlier for Save the Internet at 42 tweets\")\n",
    "print(dataAnalysis.loc[87, 'Name']+ \" is an outlier for Save the Internet at 41 tweets\")\n",
    "print(dataAnalysis.loc[73, 'Name']+ \" is an outlier for Save the Internet at 39 tweets\")"
   ]
  },
  {
   "cell_type": "code",
   "execution_count": 20,
   "metadata": {},
   "outputs": [
    {
     "name": "stdout",
     "output_type": "stream",
     "text": [
      "There are 2 outliers that exceed our upper bound of 174.5\n",
      "Michael McCaulis an outlier for Trump's National Emergency at 279 tweets\n",
      "Joaquin Castro is an outlier for Trump's National Emergency at 212 tweets\n"
     ]
    },
    {
     "data": {
      "image/png": "[encoded data removed]",
      "text/plain": [
       "<Figure size 432x288 with 1 Axes>"
      ]
     },
     "metadata": {
      "needs_background": "light"
     },
     "output_type": "display_data"
    }
   ],
   "source": [
    "dataAnalysis['Trump\\'s National Emergency'].plot.hist(bins=25, alpha=0.5)\n",
    "f7 = plt.gcf()\n",
    "plt.title('Trump\\'s National Emergency tweets')\n",
    "plt.xlabel('Number of tweets')\n",
    "plt.ylabel('Number of politicians')\n",
    "q1, q3= np.percentile(sorted(dataAnalysis['Trump\\'s National Emergency']),[25,75])\n",
    "iqr = q3 - q1\n",
    "lower_bound = q1 - (1.5 * iqr) \n",
    "upper_bound = q3 + (1.5 * iqr)\n",
    "#print(\"lower bound:\", lower_bound)\n",
    "#print(\"upper bound:\", upper_bound)\n",
    "dataAnalysis['Trump\\'s National Emergency'].sort_values(ascending = False)\n",
    "print(\"There are 2 outliers that exceed our upper bound of\", upper_bound)\n",
    "print(dataAnalysis.loc[77, 'Name']+ \"is an outlier for Trump\\'s National Emergency at 279 tweets\")\n",
    "print(dataAnalysis.loc[46, 'Name']+ \" is an outlier for Trump\\'s National Emergency at 212 tweets\")"
   ]
  },
  {
   "cell_type": "code",
   "execution_count": 21,
   "metadata": {},
   "outputs": [
    {
     "name": "stdout",
     "output_type": "stream",
     "text": [
      "There are 9 outliers that exceed our upper bound of 116.0\n",
      "Brenda Lawrence is an outlier at 179 tweets\n",
      "Deb Dingell is an outlier at 179 tweets\n",
      "Jackie Speier is an outlier at 165 tweets\n",
      "Barbra Lee is an outlier at 163 tweets\n",
      "Katherine Clark is an outlier at 153 tweets\n",
      "Annie Kuster is an outlier at 144 tweets\n",
      "Terri Sewell is an outlier at 121 tweets\n",
      "Suzanne Bonamici is an outlier at 121 tweets\n",
      "Karen Bass is an outlier at 118 tweets\n"
     ]
    },
    {
     "data": {
      "image/png": "[encoded data removed]",
      "text/plain": [
       "<Figure size 432x288 with 1 Axes>"
      ]
     },
     "metadata": {
      "needs_background": "light"
     },
     "output_type": "display_data"
    }
   ],
   "source": [
    "dataAnalysis['Violence against Women Reauthorization Act'].plot.hist(bins=25, alpha=0.5)\n",
    "f8 = plt.gcf()\n",
    "plt.title('Violence against Women Reauthorization Act tweets')\n",
    "plt.xlabel('Number of tweets')\n",
    "plt.ylabel('Number of politicians')\n",
    "q1, q3= np.percentile(sorted(dataAnalysis['Violence against Women Reauthorization Act']),[25,75])\n",
    "iqr = q3 - q1\n",
    "lower_bound = q1 -(1.5 * iqr) \n",
    "upper_bound = q3 +(1.5 * iqr)\n",
    "#print(\"lower bound:\", lower_bound)\n",
    "#print(\"upper bound:\", upper_bound)\n",
    "dataAnalysis['Violence against Women Reauthorization Act'].sort_values(ascending = False)\n",
    "print(\"There are 9 outliers that exceed our upper bound of\", upper_bound)\n",
    "print(dataAnalysis.loc[14, 'Name']+ \" is an outlier at 179 tweets\")\n",
    "print(dataAnalysis.loc[25, 'Name']+ \" is an outlier at 179 tweets\")\n",
    "print(dataAnalysis.loc[40, 'Name']+ \" is an outlier at 165 tweets\")\n",
    "print(dataAnalysis.loc[7, 'Name']+ \" is an outlier at 163 tweets\")\n",
    "print(dataAnalysis.loc[59, 'Name']+ \" is an outlier at 153 tweets\")\n",
    "print(dataAnalysis.loc[5, 'Name']+ \" is an outlier at 144 tweets\")\n",
    "print(dataAnalysis.loc[109, 'Name']+ \" is an outlier at 121 tweets\")\n",
    "print(dataAnalysis.loc[106, 'Name']+ \" is an outlier at 121 tweets\")\n",
    "print(dataAnalysis.loc[58, 'Name']+ \" is an outlier at 118 tweets\")"
   ]
  },
  {
   "cell_type": "code",
   "execution_count": 22,
   "metadata": {},
   "outputs": [],
   "source": [
    "billAnalysis['Twt_Count'] = billAnalysis['Tweet'].apply(lambda x: len(x))\n",
    "\n",
    "count_pivot = billAnalysis.pivot_table(index = 'Name', columns = 'Bill #', values = 'Twt_Count')"
   ]
  },
  {
   "cell_type": "code",
   "execution_count": 23,
   "metadata": {},
   "outputs": [
    {
     "name": "stdout",
     "output_type": "stream",
     "text": [
      "lower bound: -11434.5\n",
      "upper bound: 27571.5\n",
      "There are 28 outliers that had made more than our upper bound of 27571.5 tweets on all our bills\n",
      "Terri Sewell made the most tweets at 63260 tweets\n",
      "Pramila Jayapal came in second at 54323 tweets\n",
      "Terri Sewell came in third at 50663 tweets\n",
      "Joe Kennedy is an outlier at 44979 tweets\n",
      "Barbra Lee is an outlier at 43396 tweets\n",
      "Kathy Castor is an outlier at 42456 tweets\n",
      "Robin Kelly is an outlier at 41301 tweets\n",
      "Brenda Lawrence is an outlier at 40368 tweets\n",
      "Ro Khanna is an outlier at 39954 tweets\n",
      "Michael McCaul  is an outlier at 39691 tweets\n",
      "Jackie Speier is an outlier at 38667 tweets\n",
      "Katherine Clark is an outlier at 37850 tweets\n",
      "Deb Dingell is an outlier at 36054 tweets\n",
      "John Yarmuth is an outlier at 34778 tweets\n",
      "Marc Veasey is an outlier at 33669 tweets\n",
      "John Barrasso is an outlier at 32071 tweets\n",
      "Joaquin Castro is an outlier at 31810 tweets\n",
      "Annie Kuster is an outlier at 30828 tweets\n",
      "Suzanne Bonamici is an outlier at 30771 tweets\n",
      "Nancy Pelosi is an outlier at 30761 tweets\n",
      "Katherine Clark is an outlier at 29256 tweets\n",
      "Suzanne Bonamici is an outlier at 29231 tweets\n",
      "Pramila Jayapal is an outlier at 28751 tweets\n",
      "Marc Veasey is an outlier at 28649 tweets\n",
      "Diana DeGette is an outlier at 28333 tweets\n",
      "Mark Takano is an outlier at 28168 tweets\n",
      "Sean Maloney is an outlier at 28069 tweets\n",
      "Dan Kildee is an outlier at 28017 tweets\n"
     ]
    }
   ],
   "source": [
    "q1, q3= np.percentile(sorted(billAnalysis['Twt_Count']),[25,75])\n",
    "iqr = q3 - q1\n",
    "lower_bound = q1 -(1.5 * iqr) \n",
    "upper_bound = q3 +(1.5 * iqr)\n",
    "print(\"lower bound:\", lower_bound)\n",
    "print(\"upper bound:\", upper_bound)\n",
    "billAnalysis['Twt_Count'].sort_values(ascending = False)\n",
    "#There is no real outliers, Number 96 made less than 100 tweets.\n",
    "#number 351, 189, and 234 are the only ones that made more than 50000 tweets about our bills.\n",
    "print(\"There are 28 outliers that had made more than our upper bound of\", upper_bound, \"tweets on all our bills\")\n",
    "print(billAnalysis.loc[351, 'Name']+ \" made the most tweets at 63260 tweets\")\n",
    "print(billAnalysis.loc[189, 'Name']+ \" came in second at 54323 tweets\")\n",
    "print(billAnalysis.loc[234, 'Name']+ \" came in third at 50663 tweets\")\n",
    "print(billAnalysis.loc[144, 'Name']+ \" is an outlier at 44979 tweets\")\n",
    "print(billAnalysis.loc[310, 'Name']+ \" is an outlier at 43396 tweets\")\n",
    "print(billAnalysis.loc[146, 'Name']+ \" is an outlier at 42456 tweets\")\n",
    "print(billAnalysis.loc[571, 'Name']+ \" is an outlier at 41301 tweets\")\n",
    "print(billAnalysis.loc[289, 'Name']+ \" is an outlier at 40368 tweets\")\n",
    "print(billAnalysis.loc[632, 'Name']+ \" is an outlier at 39954 tweets\")\n",
    "print(billAnalysis.loc[825, 'Name']+ \" is an outlier at 39691 tweets\")\n",
    "print(billAnalysis.loc[252, 'Name']+ \" is an outlier at 38667 tweets\")\n",
    "print(billAnalysis.loc[241, 'Name']+ \" is an outlier at 37850 tweets\")\n",
    "print(billAnalysis.loc[276, 'Name']+ \" is an outlier at 36054 tweets\")\n",
    "print(billAnalysis.loc[139, 'Name']+ \" is an outlier at 34778 tweets\")\n",
    "print(billAnalysis.loc[433, 'Name']+ \" is an outlier at 33669 tweets\")\n",
    "print(billAnalysis.loc[112, 'Name']+ \" is an outlier at 32071 tweets\")\n",
    "print(billAnalysis.loc[871, 'Name']+ \" is an outlier at 31810 tweets\")\n",
    "print(billAnalysis.loc[296, 'Name']+ \" is an outlier at 30828 tweets\")\n",
    "print(billAnalysis.loc[331, 'Name']+ \" is an outlier at 30771 tweets\")\n",
    "print(billAnalysis.loc[202, 'Name']+ \" is an outlier at 30761 tweets\")\n",
    "print(billAnalysis.loc[125, 'Name']+ \" is an outlier at 29256 tweets\")\n",
    "print(billAnalysis.loc[214, 'Name']+ \" is an outlier at 29231 tweets\")\n",
    "print(billAnalysis.loc[306, 'Name']+ \" is an outlier at 28751 tweets\")\n",
    "print(billAnalysis.loc[317, 'Name']+ \" is an outlier at 28649 tweets\")\n",
    "print(billAnalysis.loc[210, 'Name']+ \" is an outlier at 28333 tweets\")\n",
    "print(billAnalysis.loc[141, 'Name']+ \" is an outlier at 28168 tweets\")\n",
    "print(billAnalysis.loc[299, 'Name']+ \" is an outlier at 28069 tweets\")\n",
    "print(billAnalysis.loc[165, 'Name']+ \" is an outlier at 28017 tweets\")"
   ]
  },
  {
   "cell_type": "markdown",
   "metadata": {},
   "source": [
    "The following shows out of the two political parties, which side tends to tweet more about certain topics compared to others:"
   ]
  },
  {
   "cell_type": "code",
   "execution_count": 24,
   "metadata": {},
   "outputs": [],
   "source": [
    "billAnalysis['Twt_Count'] = billAnalysis['Tweet'].apply(lambda x: len(x))\n",
    "count_pivot = billAnalysis.pivot_table(index = 'Name', columns = 'Bill #', values = 'Twt_Count')"
   ]
  },
  {
   "cell_type": "code",
   "execution_count": 25,
   "metadata": {},
   "outputs": [
    {
     "data": {
      "text/html": [
       "<div>\n",
       "<style scoped>\n",
       "    .dataframe tbody tr th:only-of-type {\n",
       "        vertical-align: middle;\n",
       "    }\n",
       "\n",
       "    .dataframe tbody tr th {\n",
       "        vertical-align: top;\n",
       "    }\n",
       "\n",
       "    .dataframe thead th {\n",
       "        text-align: right;\n",
       "    }\n",
       "</style>\n",
       "<table border=\"1\" class=\"dataframe\">\n",
       "  <thead>\n",
       "    <tr style=\"text-align: right;\">\n",
       "      <th></th>\n",
       "      <th>Unnamed: 0</th>\n",
       "      <th>Twt_Count</th>\n",
       "    </tr>\n",
       "    <tr>\n",
       "      <th>Bill #</th>\n",
       "      <th></th>\n",
       "      <th></th>\n",
       "    </tr>\n",
       "  </thead>\n",
       "  <tbody>\n",
       "    <tr>\n",
       "      <th>Background Check for Firearms</th>\n",
       "      <td>29474</td>\n",
       "      <td>219334</td>\n",
       "    </tr>\n",
       "    <tr>\n",
       "      <th>For the People Act 2019</th>\n",
       "      <td>22862</td>\n",
       "      <td>567397</td>\n",
       "    </tr>\n",
       "    <tr>\n",
       "      <th>Health Care</th>\n",
       "      <td>9581</td>\n",
       "      <td>498196</td>\n",
       "    </tr>\n",
       "    <tr>\n",
       "      <th>Paycheck Fairness Act</th>\n",
       "      <td>16517</td>\n",
       "      <td>425447</td>\n",
       "    </tr>\n",
       "    <tr>\n",
       "      <th>Remove Troops from Yemen</th>\n",
       "      <td>36049</td>\n",
       "      <td>166130</td>\n",
       "    </tr>\n",
       "    <tr>\n",
       "      <th>Save the Internet</th>\n",
       "      <td>2761</td>\n",
       "      <td>48403</td>\n",
       "    </tr>\n",
       "    <tr>\n",
       "      <th>Trump's National Emergency</th>\n",
       "      <td>50215</td>\n",
       "      <td>630307</td>\n",
       "    </tr>\n",
       "    <tr>\n",
       "      <th>Violence against Women Reauthorization Act</th>\n",
       "      <td>43429</td>\n",
       "      <td>211773</td>\n",
       "    </tr>\n",
       "  </tbody>\n",
       "</table>\n",
       "</div>"
      ],
      "text/plain": [
       "                                            Unnamed: 0  Twt_Count\n",
       "Bill #                                                           \n",
       "Background Check for Firearms                    29474     219334\n",
       "For the People Act 2019                          22862     567397\n",
       "Health Care                                       9581     498196\n",
       "Paycheck Fairness Act                            16517     425447\n",
       "Remove Troops from Yemen                         36049     166130\n",
       "Save the Internet                                 2761      48403\n",
       "Trump's National Emergency                       50215     630307\n",
       "Violence against Women Reauthorization Act       43429     211773"
      ]
     },
     "execution_count": 25,
     "metadata": {},
     "output_type": "execute_result"
    }
   ],
   "source": [
    "sum_R=billAnalysis[billAnalysis['Party'] == \"R\"].groupby(['Bill #']).sum()\n",
    "sum_D=billAnalysis[billAnalysis['Party'] == \"D\"].groupby(['Bill #']).sum()\n",
    "sum_R"
   ]
  },
  {
   "cell_type": "code",
   "execution_count": 26,
   "metadata": {},
   "outputs": [
    {
     "data": {
      "text/html": [
       "<div>\n",
       "<style scoped>\n",
       "    .dataframe tbody tr th:only-of-type {\n",
       "        vertical-align: middle;\n",
       "    }\n",
       "\n",
       "    .dataframe tbody tr th {\n",
       "        vertical-align: top;\n",
       "    }\n",
       "\n",
       "    .dataframe thead th {\n",
       "        text-align: right;\n",
       "    }\n",
       "</style>\n",
       "<table border=\"1\" class=\"dataframe\">\n",
       "  <thead>\n",
       "    <tr style=\"text-align: right;\">\n",
       "      <th></th>\n",
       "      <th>Unnamed: 0</th>\n",
       "      <th>Twt_Count</th>\n",
       "    </tr>\n",
       "    <tr>\n",
       "      <th>Bill #</th>\n",
       "      <th></th>\n",
       "      <th></th>\n",
       "    </tr>\n",
       "  </thead>\n",
       "  <tbody>\n",
       "    <tr>\n",
       "      <th>Background Check for Firearms</th>\n",
       "      <td>30440</td>\n",
       "      <td>537691</td>\n",
       "    </tr>\n",
       "    <tr>\n",
       "      <th>For the People Act 2019</th>\n",
       "      <td>23596</td>\n",
       "      <td>1032195</td>\n",
       "    </tr>\n",
       "    <tr>\n",
       "      <th>Health Care</th>\n",
       "      <td>9849</td>\n",
       "      <td>1116003</td>\n",
       "    </tr>\n",
       "    <tr>\n",
       "      <th>Paycheck Fairness Act</th>\n",
       "      <td>16711</td>\n",
       "      <td>1245166</td>\n",
       "    </tr>\n",
       "    <tr>\n",
       "      <th>Remove Troops from Yemen</th>\n",
       "      <td>36631</td>\n",
       "      <td>340322</td>\n",
       "    </tr>\n",
       "    <tr>\n",
       "      <th>Save the Internet</th>\n",
       "      <td>3234</td>\n",
       "      <td>133233</td>\n",
       "    </tr>\n",
       "    <tr>\n",
       "      <th>Trump's National Emergency</th>\n",
       "      <td>50990</td>\n",
       "      <td>660936</td>\n",
       "    </tr>\n",
       "    <tr>\n",
       "      <th>Violence against Women Reauthorization Act</th>\n",
       "      <td>44087</td>\n",
       "      <td>611936</td>\n",
       "    </tr>\n",
       "  </tbody>\n",
       "</table>\n",
       "</div>"
      ],
      "text/plain": [
       "                                            Unnamed: 0  Twt_Count\n",
       "Bill #                                                           \n",
       "Background Check for Firearms                    30440     537691\n",
       "For the People Act 2019                          23596    1032195\n",
       "Health Care                                       9849    1116003\n",
       "Paycheck Fairness Act                            16711    1245166\n",
       "Remove Troops from Yemen                         36631     340322\n",
       "Save the Internet                                 3234     133233\n",
       "Trump's National Emergency                       50990     660936\n",
       "Violence against Women Reauthorization Act       44087     611936"
      ]
     },
     "execution_count": 26,
     "metadata": {},
     "output_type": "execute_result"
    }
   ],
   "source": [
    "sum_D"
   ]
  },
  {
   "cell_type": "code",
   "execution_count": 27,
   "metadata": {},
   "outputs": [
    {
     "data": {
      "image/png": "[encoded data removed]",
      "text/plain": [
       "<Figure size 432x288 with 1 Axes>"
      ]
     },
     "metadata": {
      "needs_background": "light"
     },
     "output_type": "display_data"
    }
   ],
   "source": [
    "N = 8\n",
    "Demo = (133233,1116003,1245166,1032195,537691,340322,611936,660936)\n",
    "Repu = (48403,498196,425447,567397,219334,166130,211773,630307)\n",
    "ind = np.arange(N)    # the x locations for the groups\n",
    "width = 0.65    # the width of the bars: can also be len(x) sequence\n",
    "\n",
    "p1 = plt.bar(ind, Demo, width, color='royalblue')\n",
    "p2 = plt.bar(ind, Repu, width,\n",
    "             bottom=Demo,color='tomato')\n",
    "\n",
    "plt.ylabel('Number of Tweets')\n",
    "plt.xlabel('Name of Bills')\n",
    "plt.title('D vs. R Total')\n",
    "plt.xticks(ind, (billAnalysis['Bill #'].unique()),rotation='vertical')\n",
    "plt.yticks(np.arange(0, 1900000, 150000))\n",
    "plt.legend((p1[0], p2[0]), ('Democrats', 'Republicans'))\n",
    "\n",
    "plt.show()"
   ]
  },
  {
   "cell_type": "markdown",
   "metadata": {},
   "source": [
    "We can see how Democrats are more prolific tweeters than Repiblicans in general across all topics. Furthermore, we see that there are more people who tweet about Paycheck Fairness, Health care, and the For the People Act, and how there are less tweets about the Save the Internet Act overall (additionally, notice the higher ratio of tweets of Democrats to Republicans).\n",
    "    \n",
    "Now we're evaluating our sentiment analysis results:"
   ]
  },
  {
   "cell_type": "code",
   "execution_count": 29,
   "metadata": {},
   "outputs": [],
   "source": [
    "sentimentAnalysis = pd.read_csv('Tweet_Truth/votes_tweets.csv')\n",
    "sentimentAnalysis\n",
    "firearmsSent = sentimentAnalysis.loc[sentimentAnalysis['Bill'] == \"Background Check for Firearms\"]\n",
    "peopleSent = sentimentAnalysis.loc[sentimentAnalysis['Bill'] == \"For the People Act 2019\"]\n",
    "healthSent = sentimentAnalysis.loc[sentimentAnalysis['Bill'] == \"Health Care\"]\n",
    "paycheckSent = sentimentAnalysis.loc[sentimentAnalysis['Bill'] == \"Paycheck Fairness Act\"]\n",
    "yemenSent = sentimentAnalysis.loc[sentimentAnalysis['Bill'] == \"Remove Troops from Yemen\"]\n",
    "internetSent = sentimentAnalysis.loc[sentimentAnalysis['Bill'] == \"Save the Internet\"]\n",
    "TrumpSent = sentimentAnalysis.loc[sentimentAnalysis['Bill'] == \"Trump\\'s National Emergency\"]\n",
    "WomenSent = sentimentAnalysis.loc[sentimentAnalysis['Bill'] == \"Violence against Women Reauthorization Act\"]\n"
   ]
  },
  {
   "cell_type": "code",
   "execution_count": 30,
   "metadata": {},
   "outputs": [
    {
     "name": "stdout",
     "output_type": "stream",
     "text": [
      "lower bound: -0.25313040103978535\n",
      "upper bound: 0.39024559160116545\n",
      "No outliers for average sentiment score on Background Check for Firearms bill\n"
     ]
    }
   ],
   "source": [
    "q1, q3= np.percentile(sorted(firearmsSent['Average']),[25,75])\n",
    "iqr = q3 - q1\n",
    "lower_bound = q1 -(1.5 * iqr) \n",
    "upper_bound = q3 +(1.5 * iqr)\n",
    "print(\"lower bound:\", lower_bound)\n",
    "print(\"upper bound:\", upper_bound)\n",
    "print(\"No outliers for average sentiment score on Background Check for Firearms bill\")"
   ]
  },
  {
   "cell_type": "code",
   "execution_count": 31,
   "metadata": {},
   "outputs": [
    {
     "name": "stdout",
     "output_type": "stream",
     "text": [
      "lower bound: -0.3507462729820816\n",
      "upper bound: 0.21044776401417217\n",
      "steve stivers is an outlier exceding our lower bound at -0.3507462729820816 , having the lowest sentiment average at -0.4153846162888739  on For the People Act 2019 bill\n"
     ]
    }
   ],
   "source": [
    "q1, q3= np.percentile(sorted(peopleSent['Average']),[25,75])\n",
    "iqr = q3 - q1\n",
    "lower_bound = q1 -(1.5 * iqr) \n",
    "upper_bound = q3 +(1.5 * iqr)\n",
    "print(\"lower bound:\", lower_bound)\n",
    "print(\"upper bound:\", upper_bound)\n",
    "#print(peopleSent['Average'].sort_values(ascending = False))\n",
    "print(peopleSent.loc[331, 'Name'] + \" is an outlier exceding our lower bound at\", lower_bound, \", having the lowest sentiment average at\",peopleSent.loc[331, 'Average'],\" on For the People Act 2019 bill\")"
   ]
  },
  {
   "cell_type": "code",
   "execution_count": 32,
   "metadata": {},
   "outputs": [
    {
     "name": "stdout",
     "output_type": "stream",
     "text": [
      "lower bound: -0.46628788006350863\n",
      "upper bound: 0.2215909079055895\n",
      "no outliers for Health Care bill\n"
     ]
    }
   ],
   "source": [
    "q1, q3= np.percentile(sorted(healthSent['Average']),[25,75])\n",
    "iqr = q3 - q1\n",
    "lower_bound = q1 -(1.5 * iqr) \n",
    "upper_bound = q3 +(1.5 * iqr)\n",
    "print(\"lower bound:\", lower_bound)\n",
    "print(\"upper bound:\", upper_bound)\n",
    "healthSent['Average'].sort_values(ascending = False)\n",
    "print(\"no outliers for Health Care bill\")"
   ]
  },
  {
   "cell_type": "code",
   "execution_count": 33,
   "metadata": {},
   "outputs": [
    {
     "name": "stdout",
     "output_type": "stream",
     "text": [
      "lower bound: -0.521284814372486\n",
      "upper bound: 0.35858284832555676\n",
      "devin nunes is an outlier exceding our lower bound at -0.521284814372486 , having the lowest sentiment average at -0.699999988079071  on Paycheck Fairness Act bill\n"
     ]
    }
   ],
   "source": [
    "q1, q3= np.percentile(sorted(paycheckSent['Average']),[25,75])\n",
    "iqr = q3 - q1\n",
    "lower_bound = q1 -(1.5 * iqr) \n",
    "upper_bound = q3 +(1.5 * iqr)\n",
    "print(\"lower bound:\", lower_bound)\n",
    "print(\"upper bound:\", upper_bound)\n",
    "paycheckSent['Average'].sort_values(ascending = False)\n",
    "print(paycheckSent.loc[275, 'Name'] + \" is an outlier exceding our lower bound at\", lower_bound, \", having the lowest sentiment average at\", paycheckSent.loc[275, 'Average'],\" on Paycheck Fairness Act bill\")"
   ]
  },
  {
   "cell_type": "code",
   "execution_count": 34,
   "metadata": {},
   "outputs": [
    {
     "name": "stdout",
     "output_type": "stream",
     "text": [
      "lower bound: -0.8563631332228675\n",
      "upper bound: 0.5567590560799893\n",
      "devin nunes is an outlier exceding our upper bound at 0.5567590560799893 , having the highest sentiment average at 0.8999999761581421  on Remove Troops from Yemen bill\n"
     ]
    }
   ],
   "source": [
    "q1, q3= np.percentile(sorted(yemenSent['Average']),[25,75])\n",
    "iqr = q3 - q1\n",
    "lower_bound = q1 -(1.5 * iqr) \n",
    "upper_bound = q3 +(1.5 * iqr)\n",
    "print(\"lower bound:\", lower_bound)\n",
    "print(\"upper bound:\", upper_bound)\n",
    "yemenSent['Average'].sort_values(ascending = False)\n",
    "print(yemenSent.loc[590, 'Name'] + \" is an outlier exceding our upper bound at\", upper_bound, \", having the highest sentiment average at\", yemenSent.loc[590, 'Average'],\" on Remove Troops from Yemen bill\")"
   ]
  },
  {
   "cell_type": "code",
   "execution_count": 35,
   "metadata": {},
   "outputs": [
    {
     "name": "stdout",
     "output_type": "stream",
     "text": [
      "lower bound: -0.6501545426282254\n",
      "upper bound: 0.6074004210941084\n",
      "There are 2 outliers one that exceeds our upper bound and one that is lower than our lower bound\n",
      "adrian smith is an outlier, having the highest sentiment average at .7 for Save the Internet bill\n",
      "sean duffy is an outlier, having the lowest sentiment average at -.7 for Save the Internet bill\n"
     ]
    }
   ],
   "source": [
    "q1, q3= np.percentile(sorted(internetSent['Average']),[25,75])\n",
    "iqr = q3 - q1\n",
    "lower_bound = q1 -(1.5 * iqr) \n",
    "upper_bound = q3 +(1.5 * iqr)\n",
    "print(\"lower bound:\", lower_bound)\n",
    "print(\"upper bound:\", upper_bound)\n",
    "internetSent['Average'].sort_values(ascending = False)\n",
    "print(\"There are 2 outliers one that exceeds our upper bound and one that is lower than our lower bound\")\n",
    "print(internetSent.loc[92, 'Name'] + \" is an outlier, having the highest sentiment average at .7 for Save the Internet bill\")\n",
    "print(internetSent.loc[97, 'Name'] + \" is an outlier, having the lowest sentiment average at -.7 for Save the Internet bill\")"
   ]
  },
  {
   "cell_type": "code",
   "execution_count": 36,
   "metadata": {},
   "outputs": [
    {
     "name": "stdout",
     "output_type": "stream",
     "text": [
      "lower bound: -0.5100419444999619\n",
      "upper bound: 0.1795570817462374\n",
      "There are no outliers for Trump's National Emergency bill\n"
     ]
    }
   ],
   "source": [
    "q1, q3= np.percentile(sorted(TrumpSent['Average']),[25,75])\n",
    "iqr = q3 - q1\n",
    "lower_bound = q1 -(1.5 * iqr) \n",
    "upper_bound = q3 +(1.5 * iqr)\n",
    "print(\"lower bound:\", lower_bound)\n",
    "print(\"upper bound:\", upper_bound)\n",
    "TrumpSent['Average'].sort_values(ascending = False)\n",
    "print(\"There are no outliers for Trump\\'s National Emergency bill\")"
   ]
  },
  {
   "cell_type": "code",
   "execution_count": 37,
   "metadata": {},
   "outputs": [
    {
     "name": "stdout",
     "output_type": "stream",
     "text": [
      "lower bound: -0.990510186641699\n",
      "upper bound: 0.4129455626921523\n",
      "mark green is an outlier, having the highest sentiment average at .5, which is higher than our upper bound 0.4129455626921523 for Violence against Women Reauthorization Act bill\n"
     ]
    }
   ],
   "source": [
    "q1, q3= np.percentile(sorted(WomenSent['Average']),[25,75])\n",
    "iqr = q3 - q1\n",
    "lower_bound = q1 -(1.5 * iqr) \n",
    "upper_bound = q3 +(1.5 * iqr)\n",
    "print(\"lower bound:\", lower_bound)\n",
    "print(\"upper bound:\", upper_bound)\n",
    "WomenSent['Average'].sort_values(ascending = False)\n",
    "print(WomenSent.loc[699, 'Name'] + \" is an outlier, having the highest sentiment average at .5, which is higher than our upper bound\", upper_bound, \"for Violence against Women Reauthorization Act bill\")"
   ]
  },
  {
   "cell_type": "markdown",
   "metadata": {},
   "source": [
    "Now we will take a look at how the sentiment scores of the politicians match with their voting patterns."
   ]
  },
  {
   "cell_type": "code",
   "execution_count": 39,
   "metadata": {},
   "outputs": [
    {
     "data": {
      "text/html": [
       "<div>\n",
       "<style scoped>\n",
       "    .dataframe tbody tr th:only-of-type {\n",
       "        vertical-align: middle;\n",
       "    }\n",
       "\n",
       "    .dataframe tbody tr th {\n",
       "        vertical-align: top;\n",
       "    }\n",
       "\n",
       "    .dataframe thead th {\n",
       "        text-align: right;\n",
       "    }\n",
       "</style>\n",
       "<table border=\"1\" class=\"dataframe\">\n",
       "  <thead>\n",
       "    <tr style=\"text-align: right;\">\n",
       "      <th></th>\n",
       "      <th>State</th>\n",
       "      <th>Vote</th>\n",
       "      <th>Name</th>\n",
       "      <th>Party</th>\n",
       "      <th>Bill</th>\n",
       "    </tr>\n",
       "  </thead>\n",
       "  <tbody>\n",
       "    <tr>\n",
       "      <th>0</th>\n",
       "      <td>OR</td>\n",
       "      <td>1</td>\n",
       "      <td>earl blumenauer</td>\n",
       "      <td>D</td>\n",
       "      <td>Paycheck Fairness Act</td>\n",
       "    </tr>\n",
       "    <tr>\n",
       "      <th>1</th>\n",
       "      <td>TX</td>\n",
       "      <td>-1</td>\n",
       "      <td>kevin brady</td>\n",
       "      <td>R</td>\n",
       "      <td>Paycheck Fairness Act</td>\n",
       "    </tr>\n",
       "    <tr>\n",
       "      <th>2</th>\n",
       "      <td>MD</td>\n",
       "      <td>1</td>\n",
       "      <td>elijah cummings</td>\n",
       "      <td>D</td>\n",
       "      <td>Paycheck Fairness Act</td>\n",
       "    </tr>\n",
       "    <tr>\n",
       "      <th>3</th>\n",
       "      <td>CO</td>\n",
       "      <td>1</td>\n",
       "      <td>diana degette</td>\n",
       "      <td>D</td>\n",
       "      <td>Paycheck Fairness Act</td>\n",
       "    </tr>\n",
       "    <tr>\n",
       "      <th>4</th>\n",
       "      <td>FL</td>\n",
       "      <td>1</td>\n",
       "      <td>mario diaz-balart</td>\n",
       "      <td>R</td>\n",
       "      <td>Paycheck Fairness Act</td>\n",
       "    </tr>\n",
       "  </tbody>\n",
       "</table>\n",
       "</div>"
      ],
      "text/plain": [
       "  State  Vote               Name Party                   Bill\n",
       "0    OR     1    earl blumenauer     D  Paycheck Fairness Act\n",
       "1    TX    -1        kevin brady     R  Paycheck Fairness Act\n",
       "2    MD     1    elijah cummings     D  Paycheck Fairness Act\n",
       "3    CO     1      diana degette     D  Paycheck Fairness Act\n",
       "4    FL     1  mario diaz-balart     R  Paycheck Fairness Act"
      ]
     },
     "execution_count": 39,
     "metadata": {},
     "output_type": "execute_result"
    }
   ],
   "source": [
    "govtrack = pd.read_csv('Tweet_Truth/govtrack.csv')\n",
    "govtrack['vote'] = govtrack['vote'].apply(lambda x: 0 if x == -1 else -1 if x == 0 else x)\n",
    "govtrack.columns = ['State', 'Vote', 'Name', 'Party', 'Bill']\n",
    "govtrack.head(5)"
   ]
  },
  {
   "cell_type": "code",
   "execution_count": 40,
   "metadata": {},
   "outputs": [],
   "source": [
    "firearmsGov = govtrack.loc[govtrack['Bill'] == \"Background Check for Firearms\"]\n",
    "peopleGov = govtrack.loc[govtrack['Bill'] == \"For the People Act 2019\"]\n",
    "healthGov = govtrack.loc[govtrack['Bill'] == \"Health Care\"]\n",
    "paycheckGov = govtrack.loc[govtrack['Bill'] == \"Paycheck Fairness Act\"]\n",
    "yemenGov = govtrack.loc[govtrack['Bill'] == \"Remove Troops from Yemen\"]\n",
    "internetGov = govtrack.loc[govtrack['Bill'] == \"Save the Internet\"]\n",
    "TrumpGov = govtrack.loc[govtrack['Bill'] == \"Trump\\'s National Emergency\"]\n",
    "WomenGov = govtrack.loc[govtrack['Bill'] == \"Violence against Women Reauthorization Act\"]"
   ]
  },
  {
   "cell_type": "code",
   "execution_count": 41,
   "metadata": {},
   "outputs": [
    {
     "data": {
      "text/html": [
       "<div>\n",
       "<style scoped>\n",
       "    .dataframe tbody tr th:only-of-type {\n",
       "        vertical-align: middle;\n",
       "    }\n",
       "\n",
       "    .dataframe tbody tr th {\n",
       "        vertical-align: top;\n",
       "    }\n",
       "\n",
       "    .dataframe thead th {\n",
       "        text-align: right;\n",
       "    }\n",
       "</style>\n",
       "<table border=\"1\" class=\"dataframe\">\n",
       "  <thead>\n",
       "    <tr style=\"text-align: right;\">\n",
       "      <th></th>\n",
       "      <th>State</th>\n",
       "      <th>Vote</th>\n",
       "      <th>Name</th>\n",
       "      <th>Party</th>\n",
       "      <th>Bill</th>\n",
       "    </tr>\n",
       "  </thead>\n",
       "  <tbody>\n",
       "    <tr>\n",
       "      <th>100</th>\n",
       "      <td>IA</td>\n",
       "      <td>0</td>\n",
       "      <td>steve king</td>\n",
       "      <td>R</td>\n",
       "      <td>Background Check for Firearms</td>\n",
       "    </tr>\n",
       "  </tbody>\n",
       "</table>\n",
       "</div>"
      ],
      "text/plain": [
       "    State  Vote        Name Party                           Bill\n",
       "100    IA     0  steve king     R  Background Check for Firearms"
      ]
     },
     "execution_count": 41,
     "metadata": {},
     "output_type": "execute_result"
    }
   ],
   "source": [
    "# Determining which politicians abstain for each bill\n",
    "\n",
    "firearmsGov.loc[firearmsGov['Vote'] == 0]"
   ]
  },
  {
   "cell_type": "code",
   "execution_count": 42,
   "metadata": {},
   "outputs": [
    {
     "data": {
      "text/html": [
       "<div>\n",
       "<style scoped>\n",
       "    .dataframe tbody tr th:only-of-type {\n",
       "        vertical-align: middle;\n",
       "    }\n",
       "\n",
       "    .dataframe tbody tr th {\n",
       "        vertical-align: top;\n",
       "    }\n",
       "\n",
       "    .dataframe thead th {\n",
       "        text-align: right;\n",
       "    }\n",
       "</style>\n",
       "<table border=\"1\" class=\"dataframe\">\n",
       "  <thead>\n",
       "    <tr style=\"text-align: right;\">\n",
       "      <th></th>\n",
       "      <th>State</th>\n",
       "      <th>Vote</th>\n",
       "      <th>Name</th>\n",
       "      <th>Party</th>\n",
       "      <th>Bill</th>\n",
       "    </tr>\n",
       "  </thead>\n",
       "  <tbody>\n",
       "    <tr>\n",
       "      <th>224</th>\n",
       "      <td>OH</td>\n",
       "      <td>0</td>\n",
       "      <td>steve stivers</td>\n",
       "      <td>R</td>\n",
       "      <td>For the People Act 2019</td>\n",
       "    </tr>\n",
       "  </tbody>\n",
       "</table>\n",
       "</div>"
      ],
      "text/plain": [
       "    State  Vote           Name Party                     Bill\n",
       "224    OH     0  steve stivers     R  For the People Act 2019"
      ]
     },
     "execution_count": 42,
     "metadata": {},
     "output_type": "execute_result"
    }
   ],
   "source": [
    "peopleGov.loc[peopleGov['Vote'] == 0]"
   ]
  },
  {
   "cell_type": "code",
   "execution_count": 43,
   "metadata": {},
   "outputs": [
    {
     "data": {
      "text/html": [
       "<div>\n",
       "<style scoped>\n",
       "    .dataframe tbody tr th:only-of-type {\n",
       "        vertical-align: middle;\n",
       "    }\n",
       "\n",
       "    .dataframe tbody tr th {\n",
       "        vertical-align: top;\n",
       "    }\n",
       "\n",
       "    .dataframe thead th {\n",
       "        text-align: right;\n",
       "    }\n",
       "</style>\n",
       "<table border=\"1\" class=\"dataframe\">\n",
       "  <thead>\n",
       "    <tr style=\"text-align: right;\">\n",
       "      <th></th>\n",
       "      <th>State</th>\n",
       "      <th>Vote</th>\n",
       "      <th>Name</th>\n",
       "      <th>Party</th>\n",
       "      <th>Bill</th>\n",
       "    </tr>\n",
       "  </thead>\n",
       "  <tbody>\n",
       "    <tr>\n",
       "      <th>472</th>\n",
       "      <td>OH</td>\n",
       "      <td>0</td>\n",
       "      <td>tim ryan</td>\n",
       "      <td>D</td>\n",
       "      <td>Health Care</td>\n",
       "    </tr>\n",
       "    <tr>\n",
       "      <th>499</th>\n",
       "      <td>OH</td>\n",
       "      <td>0</td>\n",
       "      <td>steve stivers</td>\n",
       "      <td>R</td>\n",
       "      <td>Health Care</td>\n",
       "    </tr>\n",
       "  </tbody>\n",
       "</table>\n",
       "</div>"
      ],
      "text/plain": [
       "    State  Vote           Name Party         Bill\n",
       "472    OH     0       tim ryan     D  Health Care\n",
       "499    OH     0  steve stivers     R  Health Care"
      ]
     },
     "execution_count": 43,
     "metadata": {},
     "output_type": "execute_result"
    }
   ],
   "source": [
    "healthGov.loc[healthGov['Vote'] == 0]"
   ]
  },
  {
   "cell_type": "code",
   "execution_count": 44,
   "metadata": {},
   "outputs": [
    {
     "data": {
      "text/html": [
       "<div>\n",
       "<style scoped>\n",
       "    .dataframe tbody tr th:only-of-type {\n",
       "        vertical-align: middle;\n",
       "    }\n",
       "\n",
       "    .dataframe tbody tr th {\n",
       "        vertical-align: top;\n",
       "    }\n",
       "\n",
       "    .dataframe thead th {\n",
       "        text-align: right;\n",
       "    }\n",
       "</style>\n",
       "<table border=\"1\" class=\"dataframe\">\n",
       "  <thead>\n",
       "    <tr style=\"text-align: right;\">\n",
       "      <th></th>\n",
       "      <th>State</th>\n",
       "      <th>Vote</th>\n",
       "      <th>Name</th>\n",
       "      <th>Party</th>\n",
       "      <th>Bill</th>\n",
       "    </tr>\n",
       "  </thead>\n",
       "  <tbody>\n",
       "    <tr>\n",
       "      <th>5</th>\n",
       "      <td>TX</td>\n",
       "      <td>0</td>\n",
       "      <td>kay granger</td>\n",
       "      <td>R</td>\n",
       "      <td>Paycheck Fairness Act</td>\n",
       "    </tr>\n",
       "  </tbody>\n",
       "</table>\n",
       "</div>"
      ],
      "text/plain": [
       "  State  Vote         Name Party                   Bill\n",
       "5    TX     0  kay granger     R  Paycheck Fairness Act"
      ]
     },
     "execution_count": 44,
     "metadata": {},
     "output_type": "execute_result"
    }
   ],
   "source": [
    "paycheckGov.loc[paycheckGov['Vote'] == 0]"
   ]
  },
  {
   "cell_type": "code",
   "execution_count": 45,
   "metadata": {},
   "outputs": [
    {
     "data": {
      "text/html": [
       "<div>\n",
       "<style scoped>\n",
       "    .dataframe tbody tr th:only-of-type {\n",
       "        vertical-align: middle;\n",
       "    }\n",
       "\n",
       "    .dataframe tbody tr th {\n",
       "        vertical-align: top;\n",
       "    }\n",
       "\n",
       "    .dataframe thead th {\n",
       "        text-align: right;\n",
       "    }\n",
       "</style>\n",
       "<table border=\"1\" class=\"dataframe\">\n",
       "  <thead>\n",
       "    <tr style=\"text-align: right;\">\n",
       "      <th></th>\n",
       "      <th>State</th>\n",
       "      <th>Vote</th>\n",
       "      <th>Name</th>\n",
       "      <th>Party</th>\n",
       "      <th>Bill</th>\n",
       "    </tr>\n",
       "  </thead>\n",
       "  <tbody>\n",
       "    <tr>\n",
       "      <th>555</th>\n",
       "      <td>TX</td>\n",
       "      <td>0</td>\n",
       "      <td>kay granger</td>\n",
       "      <td>R</td>\n",
       "      <td>Remove Troops from Yemen</td>\n",
       "    </tr>\n",
       "    <tr>\n",
       "      <th>564</th>\n",
       "      <td>OH</td>\n",
       "      <td>0</td>\n",
       "      <td>tim ryan</td>\n",
       "      <td>D</td>\n",
       "      <td>Remove Troops from Yemen</td>\n",
       "    </tr>\n",
       "    <tr>\n",
       "      <th>617</th>\n",
       "      <td>MA</td>\n",
       "      <td>0</td>\n",
       "      <td>katherine clark</td>\n",
       "      <td>D</td>\n",
       "      <td>Remove Troops from Yemen</td>\n",
       "    </tr>\n",
       "  </tbody>\n",
       "</table>\n",
       "</div>"
      ],
      "text/plain": [
       "    State  Vote             Name Party                      Bill\n",
       "555    TX     0      kay granger     R  Remove Troops from Yemen\n",
       "564    OH     0         tim ryan     D  Remove Troops from Yemen\n",
       "617    MA     0  katherine clark     D  Remove Troops from Yemen"
      ]
     },
     "execution_count": 45,
     "metadata": {},
     "output_type": "execute_result"
    }
   ],
   "source": [
    "yemenGov.loc[yemenGov['Vote'] == 0]"
   ]
  },
  {
   "cell_type": "code",
   "execution_count": 46,
   "metadata": {},
   "outputs": [
    {
     "data": {
      "text/html": [
       "<div>\n",
       "<style scoped>\n",
       "    .dataframe tbody tr th:only-of-type {\n",
       "        vertical-align: middle;\n",
       "    }\n",
       "\n",
       "    .dataframe tbody tr th {\n",
       "        vertical-align: top;\n",
       "    }\n",
       "\n",
       "    .dataframe thead th {\n",
       "        text-align: right;\n",
       "    }\n",
       "</style>\n",
       "<table border=\"1\" class=\"dataframe\">\n",
       "  <thead>\n",
       "    <tr style=\"text-align: right;\">\n",
       "      <th></th>\n",
       "      <th>State</th>\n",
       "      <th>Vote</th>\n",
       "      <th>Name</th>\n",
       "      <th>Party</th>\n",
       "      <th>Bill</th>\n",
       "    </tr>\n",
       "  </thead>\n",
       "  <tbody>\n",
       "    <tr>\n",
       "      <th>667</th>\n",
       "      <td>VT</td>\n",
       "      <td>0</td>\n",
       "      <td>peter welch</td>\n",
       "      <td>D</td>\n",
       "      <td>Save the Internet</td>\n",
       "    </tr>\n",
       "    <tr>\n",
       "      <th>671</th>\n",
       "      <td>TX</td>\n",
       "      <td>0</td>\n",
       "      <td>pete olson</td>\n",
       "      <td>R</td>\n",
       "      <td>Save the Internet</td>\n",
       "    </tr>\n",
       "    <tr>\n",
       "      <th>719</th>\n",
       "      <td>TX</td>\n",
       "      <td>0</td>\n",
       "      <td>brian babin</td>\n",
       "      <td>R</td>\n",
       "      <td>Save the Internet</td>\n",
       "    </tr>\n",
       "  </tbody>\n",
       "</table>\n",
       "</div>"
      ],
      "text/plain": [
       "    State  Vote         Name Party               Bill\n",
       "667    VT     0  peter welch     D  Save the Internet\n",
       "671    TX     0   pete olson     R  Save the Internet\n",
       "719    TX     0  brian babin     R  Save the Internet"
      ]
     },
     "execution_count": 46,
     "metadata": {},
     "output_type": "execute_result"
    }
   ],
   "source": [
    "internetGov.loc[internetGov['Vote'] == 0]"
   ]
  },
  {
   "cell_type": "code",
   "execution_count": 47,
   "metadata": {},
   "outputs": [
    {
     "data": {
      "text/html": [
       "<div>\n",
       "<style scoped>\n",
       "    .dataframe tbody tr th:only-of-type {\n",
       "        vertical-align: middle;\n",
       "    }\n",
       "\n",
       "    .dataframe tbody tr th {\n",
       "        vertical-align: top;\n",
       "    }\n",
       "\n",
       "    .dataframe thead th {\n",
       "        text-align: right;\n",
       "    }\n",
       "</style>\n",
       "<table border=\"1\" class=\"dataframe\">\n",
       "  <thead>\n",
       "    <tr style=\"text-align: right;\">\n",
       "      <th></th>\n",
       "      <th>State</th>\n",
       "      <th>Vote</th>\n",
       "      <th>Name</th>\n",
       "      <th>Party</th>\n",
       "      <th>Bill</th>\n",
       "    </tr>\n",
       "  </thead>\n",
       "  <tbody>\n",
       "    <tr>\n",
       "      <th>280</th>\n",
       "      <td>TX</td>\n",
       "      <td>0</td>\n",
       "      <td>kay granger</td>\n",
       "      <td>R</td>\n",
       "      <td>Trump's National Emergency</td>\n",
       "    </tr>\n",
       "    <tr>\n",
       "      <th>302</th>\n",
       "      <td>CA</td>\n",
       "      <td>0</td>\n",
       "      <td>jackie speier</td>\n",
       "      <td>D</td>\n",
       "      <td>Trump's National Emergency</td>\n",
       "    </tr>\n",
       "  </tbody>\n",
       "</table>\n",
       "</div>"
      ],
      "text/plain": [
       "    State  Vote           Name Party                        Bill\n",
       "280    TX     0    kay granger     R  Trump's National Emergency\n",
       "302    CA     0  jackie speier     D  Trump's National Emergency"
      ]
     },
     "execution_count": 47,
     "metadata": {},
     "output_type": "execute_result"
    }
   ],
   "source": [
    "TrumpGov.loc[TrumpGov['Vote'] == 0]"
   ]
  },
  {
   "cell_type": "code",
   "execution_count": 48,
   "metadata": {},
   "outputs": [
    {
     "data": {
      "text/html": [
       "<div>\n",
       "<style scoped>\n",
       "    .dataframe tbody tr th:only-of-type {\n",
       "        vertical-align: middle;\n",
       "    }\n",
       "\n",
       "    .dataframe tbody tr th {\n",
       "        vertical-align: top;\n",
       "    }\n",
       "\n",
       "    .dataframe thead th {\n",
       "        text-align: right;\n",
       "    }\n",
       "</style>\n",
       "<table border=\"1\" class=\"dataframe\">\n",
       "  <thead>\n",
       "    <tr style=\"text-align: right;\">\n",
       "      <th></th>\n",
       "      <th>State</th>\n",
       "      <th>Vote</th>\n",
       "      <th>Name</th>\n",
       "      <th>Party</th>\n",
       "      <th>Bill</th>\n",
       "    </tr>\n",
       "  </thead>\n",
       "  <tbody>\n",
       "    <tr>\n",
       "      <th>372</th>\n",
       "      <td>TX</td>\n",
       "      <td>0</td>\n",
       "      <td>kay granger</td>\n",
       "      <td>R</td>\n",
       "      <td>Violence against Women Reauthorization Act</td>\n",
       "    </tr>\n",
       "    <tr>\n",
       "      <th>380</th>\n",
       "      <td>OH</td>\n",
       "      <td>0</td>\n",
       "      <td>tim ryan</td>\n",
       "      <td>D</td>\n",
       "      <td>Violence against Women Reauthorization Act</td>\n",
       "    </tr>\n",
       "    <tr>\n",
       "      <th>433</th>\n",
       "      <td>MA</td>\n",
       "      <td>0</td>\n",
       "      <td>katherine clark</td>\n",
       "      <td>D</td>\n",
       "      <td>Violence against Women Reauthorization Act</td>\n",
       "    </tr>\n",
       "  </tbody>\n",
       "</table>\n",
       "</div>"
      ],
      "text/plain": [
       "    State  Vote             Name Party  \\\n",
       "372    TX     0      kay granger     R   \n",
       "380    OH     0         tim ryan     D   \n",
       "433    MA     0  katherine clark     D   \n",
       "\n",
       "                                           Bill  \n",
       "372  Violence against Women Reauthorization Act  \n",
       "380  Violence against Women Reauthorization Act  \n",
       "433  Violence against Women Reauthorization Act  "
      ]
     },
     "execution_count": 48,
     "metadata": {},
     "output_type": "execute_result"
    }
   ],
   "source": [
    "WomenGov.loc[WomenGov['Vote'] == 0]"
   ]
  },
  {
   "cell_type": "code",
   "execution_count": 50,
   "metadata": {},
   "outputs": [
    {
     "name": "stdout",
     "output_type": "stream",
     "text": [
      "lower bound: -0.5\n",
      "upper bound: 3.5\n",
      "kay granger abstained from the most votes, with 4 abstained votes exceeding the upper bound of 3.5\n"
     ]
    },
    {
     "data": {
      "text/html": [
       "<div>\n",
       "<style scoped>\n",
       "    .dataframe tbody tr th:only-of-type {\n",
       "        vertical-align: middle;\n",
       "    }\n",
       "\n",
       "    .dataframe tbody tr th {\n",
       "        vertical-align: top;\n",
       "    }\n",
       "\n",
       "    .dataframe thead th {\n",
       "        text-align: right;\n",
       "    }\n",
       "</style>\n",
       "<table border=\"1\" class=\"dataframe\">\n",
       "  <thead>\n",
       "    <tr style=\"text-align: right;\">\n",
       "      <th></th>\n",
       "      <th>Name</th>\n",
       "      <th>Abstain_Count</th>\n",
       "    </tr>\n",
       "  </thead>\n",
       "  <tbody>\n",
       "    <tr>\n",
       "      <th>0</th>\n",
       "      <td>steve king</td>\n",
       "      <td>1</td>\n",
       "    </tr>\n",
       "    <tr>\n",
       "      <th>1</th>\n",
       "      <td>steve stivers</td>\n",
       "      <td>2</td>\n",
       "    </tr>\n",
       "    <tr>\n",
       "      <th>2</th>\n",
       "      <td>tim ryan</td>\n",
       "      <td>3</td>\n",
       "    </tr>\n",
       "    <tr>\n",
       "      <th>3</th>\n",
       "      <td>jackie speier</td>\n",
       "      <td>1</td>\n",
       "    </tr>\n",
       "    <tr>\n",
       "      <th>4</th>\n",
       "      <td>kay granger</td>\n",
       "      <td>4</td>\n",
       "    </tr>\n",
       "    <tr>\n",
       "      <th>5</th>\n",
       "      <td>katherine clark</td>\n",
       "      <td>2</td>\n",
       "    </tr>\n",
       "    <tr>\n",
       "      <th>6</th>\n",
       "      <td>peter welch</td>\n",
       "      <td>1</td>\n",
       "    </tr>\n",
       "    <tr>\n",
       "      <th>7</th>\n",
       "      <td>pete olson</td>\n",
       "      <td>1</td>\n",
       "    </tr>\n",
       "    <tr>\n",
       "      <th>8</th>\n",
       "      <td>brian babin</td>\n",
       "      <td>1</td>\n",
       "    </tr>\n",
       "  </tbody>\n",
       "</table>\n",
       "</div>"
      ],
      "text/plain": [
       "              Name  Abstain_Count\n",
       "0       steve king              1\n",
       "1    steve stivers              2\n",
       "2         tim ryan              3\n",
       "3    jackie speier              1\n",
       "4      kay granger              4\n",
       "5  katherine clark              2\n",
       "6      peter welch              1\n",
       "7       pete olson              1\n",
       "8      brian babin              1"
      ]
     },
     "execution_count": 50,
     "metadata": {},
     "output_type": "execute_result"
    }
   ],
   "source": [
    "noVotesData = [['steve king', 1], ['steve stivers', 2], ['tim ryan', 3],['jackie speier', 1], ['kay granger', 4], ['katherine clark', 2], ['peter welch', 1], ['pete olson', 1], ['brian babin', 1]]\n",
    "noVotes = pd.DataFrame(noVotesData, columns = ['Name', 'Abstain_Count'])\n",
    "q1, q3= np.percentile(sorted(noVotes['Abstain_Count']),[25,75])\n",
    "iqr = q3 - q1\n",
    "lower_bound = q1 -(1.5 * iqr) \n",
    "upper_bound = q3 +(1.5 * iqr)\n",
    "print(\"lower bound:\", lower_bound)\n",
    "print(\"upper bound:\", upper_bound)\n",
    "print(\"kay granger abstained from the most votes, with 4 abstained votes exceeding the upper bound of 3.5\")\n",
    "noVotes"
   ]
  },
  {
   "cell_type": "code",
   "execution_count": 51,
   "metadata": {},
   "outputs": [],
   "source": [
    "consistencyData = pd.read_csv('consistencies.csv')"
   ]
  },
  {
   "cell_type": "code",
   "execution_count": 53,
   "metadata": {},
   "outputs": [
    {
     "name": "stdout",
     "output_type": "stream",
     "text": [
      "lower bound: -0.7991071428571429\n",
      "upper bound: 1.6651785714285716\n",
      "No outliers in total consistency\n",
      "Name\n",
      "tom graves        1.000\n",
      "bob gibbs         0.875\n",
      "scott tipton      0.875\n",
      "doug collins      0.875\n",
      "daniel webster    0.875\n",
      "Name: Consistent, dtype: float64\n"
     ]
    }
   ],
   "source": [
    "meanConsData = consistencyData.groupby(['Name'])[['Consistent']].mean()\n",
    "meanConsData\n",
    "q1, q3= np.percentile(sorted(meanConsData['Consistent']),[25,75])\n",
    "iqr = q3 - q1\n",
    "lower_bound = q1 -(1.5 * iqr) \n",
    "upper_bound = q3 +(1.5 * iqr)\n",
    "print(\"lower bound:\", lower_bound)\n",
    "print(\"upper bound:\", upper_bound)\n",
    "print(\"No outliers in total consistency\")\n",
    "print(meanConsData['Consistent'].sort_values(ascending = False).head(5))"
   ]
  },
  {
   "cell_type": "code",
   "execution_count": 54,
   "metadata": {},
   "outputs": [],
   "source": [
    "sentim = pd.read_csv('Tweet_Truth/tweet_sentiment_analysis.csv')\n",
    "sentim = sentim.iloc[:, 2:]\n",
    "sentim.columns = ['Name', 'Party', 'Twitter', 'Bill', 'Tweet', 'Sent', 'Average', 'Median', 'Range', 'Variance', 'SD']\n",
    "sentim['Name'] = sentim['Name'].apply(lambda x: x.lower().strip())\n",
    "sentim = sentim.drop(['SD', 'Variance', 'Range'], 1)"
   ]
  },
  {
   "cell_type": "code",
   "execution_count": 55,
   "metadata": {},
   "outputs": [],
   "source": [
    "govtrack = pd.read_csv('Tweet_Truth/govtrack.csv')\n",
    "govtrack['vote'] = govtrack['vote'].apply(lambda x: 0 if x == -1 else -1 if x == 0 else x)\n",
    "govtrack.columns = ['State', 'Vote', 'Name', 'Party', 'Bill']"
   ]
  },
  {
   "cell_type": "code",
   "execution_count": 56,
   "metadata": {},
   "outputs": [
    {
     "name": "stderr",
     "output_type": "stream",
     "text": [
      "C:\\Users\\Andrea\\AppData\\Local\\Continuum\\anaconda3\\lib\\site-packages\\ipykernel_launcher.py:6: SettingWithCopyWarning: \n",
      "A value is trying to be set on a copy of a slice from a DataFrame.\n",
      "Try using .loc[row_indexer,col_indexer] = value instead\n",
      "\n",
      "See the caveats in the documentation: http://pandas.pydata.org/pandas-docs/stable/indexing.html#indexing-view-versus-copy\n",
      "  \n",
      "C:\\Users\\Andrea\\AppData\\Local\\Continuum\\anaconda3\\lib\\site-packages\\ipykernel_launcher.py:7: SettingWithCopyWarning: \n",
      "A value is trying to be set on a copy of a slice from a DataFrame.\n",
      "Try using .loc[row_indexer,col_indexer] = value instead\n",
      "\n",
      "See the caveats in the documentation: http://pandas.pydata.org/pandas-docs/stable/indexing.html#indexing-view-versus-copy\n",
      "  import sys\n",
      "C:\\Users\\Andrea\\AppData\\Local\\Continuum\\anaconda3\\lib\\site-packages\\ipykernel_launcher.py:9: SettingWithCopyWarning: \n",
      "A value is trying to be set on a copy of a slice from a DataFrame.\n",
      "Try using .loc[row_indexer,col_indexer] = value instead\n",
      "\n",
      "See the caveats in the documentation: http://pandas.pydata.org/pandas-docs/stable/indexing.html#indexing-view-versus-copy\n",
      "  if __name__ == '__main__':\n"
     ]
    }
   ],
   "source": [
    "votes = sentim.copy().merge(govtrack.copy(), how = 'left', on = ['Name', 'Party', 'Bill'])\n",
    "senators = ['chuck grassley', 'clay higgens', 'john barrasso', 'john cornyn',\n",
    "            'john thune', 'joni ernst', 'marco rubio', 'mike enzi', 'mitch mcconnell',\n",
    "            'mitt romney', 'rob porman']\n",
    "votes_mod = votes[~votes['Name'].isin(senators)]\n",
    "votes_mod['Vote'] = votes_mod['Vote'].fillna(0)\n",
    "votes_mod['Sent'] = votes_mod['Sent'].apply(ast.literal_eval)\n",
    "votes_mod.index = range(len(votes_mod))\n",
    "votes_mod['Tweet'] = votes_mod['Tweet'].apply(ast.literal_eval)"
   ]
  },
  {
   "cell_type": "code",
   "execution_count": 57,
   "metadata": {},
   "outputs": [],
   "source": [
    "# this weigh function finds a label based on the sum of the sentiments and the sign.\n",
    "def weigh(x):\n",
    "    return np.sign(sum(x))"
   ]
  },
  {
   "cell_type": "code",
   "execution_count": 58,
   "metadata": {},
   "outputs": [
    {
     "name": "stderr",
     "output_type": "stream",
     "text": [
      "C:\\Users\\Andrea\\AppData\\Local\\Continuum\\anaconda3\\lib\\site-packages\\ipykernel_launcher.py:1: SettingWithCopyWarning: \n",
      "A value is trying to be set on a copy of a slice from a DataFrame.\n",
      "Try using .loc[row_indexer,col_indexer] = value instead\n",
      "\n",
      "See the caveats in the documentation: http://pandas.pydata.org/pandas-docs/stable/indexing.html#indexing-view-versus-copy\n",
      "  \"\"\"Entry point for launching an IPython kernel.\n",
      "C:\\Users\\Andrea\\AppData\\Local\\Continuum\\anaconda3\\lib\\site-packages\\ipykernel_launcher.py:2: SettingWithCopyWarning: \n",
      "A value is trying to be set on a copy of a slice from a DataFrame.\n",
      "Try using .loc[row_indexer,col_indexer] = value instead\n",
      "\n",
      "See the caveats in the documentation: http://pandas.pydata.org/pandas-docs/stable/indexing.html#indexing-view-versus-copy\n",
      "  \n"
     ]
    }
   ],
   "source": [
    "votes_mod['Label'] = votes_mod['Sent'].apply(weigh)\n",
    "votes_mod['Consistent'] = votes_mod['Label'] == votes_mod['Vote']"
   ]
  },
  {
   "cell_type": "code",
   "execution_count": 59,
   "metadata": {},
   "outputs": [],
   "source": [
    "votes_mod.to_csv('consistencies.csv', index = False)"
   ]
  },
  {
   "cell_type": "code",
   "execution_count": 60,
   "metadata": {},
   "outputs": [
    {
     "data": {
      "text/plain": [
       "0.4171632896305125"
      ]
     },
     "execution_count": 60,
     "metadata": {},
     "output_type": "execute_result"
    }
   ],
   "source": [
    "overall_cons = votes_mod['Consistent'].mean()\n",
    "overall_cons"
   ]
  },
  {
   "cell_type": "code",
   "execution_count": 61,
   "metadata": {},
   "outputs": [
    {
     "data": {
      "text/plain": [
       "Name\n",
       "adam kinzinger              0.750\n",
       "adam schiff                 0.500\n",
       "adrian smith                0.750\n",
       "alan lowenthal              0.375\n",
       "alexandria ocasio-cortez    0.500\n",
       "Name: Consistent, dtype: float64"
      ]
     },
     "execution_count": 61,
     "metadata": {},
     "output_type": "execute_result"
    }
   ],
   "source": [
    "by_name = votes_mod.groupby(['Name'])['Consistent'].mean()\n",
    "by_name.head(5)"
   ]
  },
  {
   "cell_type": "code",
   "execution_count": 62,
   "metadata": {},
   "outputs": [
    {
     "data": {
      "image/png": "[encoded data removed]",
      "text/plain": [
       "<Figure size 432x288 with 1 Axes>"
      ]
     },
     "metadata": {
      "needs_background": "light"
     },
     "output_type": "display_data"
    }
   ],
   "source": [
    "by_bill = votes_mod.groupby(['Bill'])['Consistent'].mean()\n",
    "by_bill_plot = sns.barplot(x = by_bill.index, y = by_bill)\n",
    "by_bill_plot.set_xticklabels(labels = by_bill.index, rotation=90);\n",
    "by_bill_plot.set_title('Average consistency score by bill')\n",
    "by_bill_plot.axes.set_ylim(0,1);"
   ]
  },
  {
   "cell_type": "code",
   "execution_count": 63,
   "metadata": {},
   "outputs": [
    {
     "data": {
      "image/png": "[encoded data removed]",
      "text/plain": [
       "<Figure size 432x288 with 1 Axes>"
      ]
     },
     "metadata": {
      "needs_background": "light"
     },
     "output_type": "display_data"
    }
   ],
   "source": [
    "by_party = votes_mod.groupby(['Party'])['Consistent'].mean()\n",
    "by_party_plot = sns.barplot(x = by_party.index, y = by_party)\n",
    "by_party_plot.set_title('Average consistency score by political party')\n",
    "by_party_plot.axes.set_ylim(0,1);"
   ]
  },
  {
   "cell_type": "markdown",
   "metadata": {},
   "source": [
    "The average consistency scores are around or below 0.5, and even with those low scores Republicans are more consistent with their voting and tweeting patterns in comparison to Democrats who have lower overall consistency scores.\n",
    "\n",
    "Politicians are more consistent with topics such as the Paycheck Fairness Act and less so with Save the Internet and Violence Against Women. "
   ]
  },
  {
   "cell_type": "code",
   "execution_count": 64,
   "metadata": {},
   "outputs": [
    {
     "data": {
      "image/png": "[encoded data removed]",
      "text/plain": [
       "<Figure size 432x288 with 1 Axes>"
      ]
     },
     "metadata": {
      "needs_background": "light"
     },
     "output_type": "display_data"
    }
   ],
   "source": [
    "by_party_bill = votes_mod.groupby(['Party', 'Bill'])['Consistent'].mean()\n",
    "party_bill_ind = [x + \": \" + y for x,y in by_party_bill.index]\n",
    "by_party_bill = sns.barplot(x = party_bill_ind, y = by_party_bill)\n",
    "by_party_bill.set_xticklabels(labels = party_bill_ind, rotation=90);\n",
    "by_party_bill.set_title('Average Consistency Scores by bill + political party')\n",
    "by_party_bill.axes.set_ylim(0,1);"
   ]
  },
  {
   "cell_type": "code",
   "execution_count": 65,
   "metadata": {},
   "outputs": [
    {
     "data": {
      "image/png": "[encoded data removed]",
      "text/plain": [
       "<Figure size 432x288 with 1 Axes>"
      ]
     },
     "metadata": {
      "needs_background": "light"
     },
     "output_type": "display_data"
    }
   ],
   "source": [
    "dems = votes_mod[votes_mod['Party'] == 'D'].copy()\n",
    "dems['Consistent'] = dems['Label'] == dems['Vote']\n",
    "dems_by_bill = dems.groupby('Bill')['Consistent'].mean()\n",
    "dems_by_bill_plot = sns.barplot(x = dems_by_bill.index, y = dems_by_bill)\n",
    "dems_by_bill_plot.set_xticklabels(labels = dems_by_bill.index, rotation=90);\n",
    "dems_by_bill_plot.set_title('Average Democrat consistency score by bill')\n",
    "dems_by_bill_plot.axes.set_ylim(0,1);"
   ]
  },
  {
   "cell_type": "markdown",
   "metadata": {},
   "source": [
    "Democrats tend to be less consistent with the Violence against Women Reauthorization Act and the Health Care Act, and more consistent with the Firearms Act"
   ]
  },
  {
   "cell_type": "code",
   "execution_count": 66,
   "metadata": {},
   "outputs": [
    {
     "data": {
      "image/png": "[encoded data removed]",
      "text/plain": [
       "<Figure size 432x288 with 1 Axes>"
      ]
     },
     "metadata": {
      "needs_background": "light"
     },
     "output_type": "display_data"
    }
   ],
   "source": [
    "reps = votes_mod[votes_mod['Party'] == 'R'].copy()\n",
    "reps_by_bill = reps.groupby('Bill')['Consistent'].mean()\n",
    "reps_by_bill_plot = sns.barplot(x = reps_by_bill.index, y = reps_by_bill)\n",
    "reps_by_bill_plot.set_xticklabels(labels = reps_by_bill.index, rotation=90);\n",
    "reps_by_bill_plot.set_title('Average Republican consistency score by bill')\n",
    "reps_by_bill_plot.axes.set_ylim(0,1);"
   ]
  },
  {
   "cell_type": "markdown",
   "metadata": {},
   "source": [
    "Republicans tend to be less consistent on the Background Check for Firearms and Save the Internet bills."
   ]
  },
  {
   "cell_type": "markdown",
   "metadata": {},
   "source": [
    "# Ethics & Privacy"
   ]
  },
  {
   "cell_type": "markdown",
   "metadata": {},
   "source": [
    "In order to web scrape Twitter for the tweet history of each congressman/woman, a Twitter Developer Account had to be requested from the company. Once this step was completed, we had the permission to collect all the Twitter data we needed to formulate the dataset. As for the GovTrack datasets, the CSV files, containing the votes on a bill from each House of Representatives, are public records (since the transparency of representatives voting record is vital for maintaining a representative democracy) no permission was needed.  \n",
    "\n",
    "In terms of privacy, this was not an issue for the GovTrack files since the CSV files are online and downloadable with no usage restrictions.  As for using the Twitter API and the tweepy library, there was a restriction on the number of page requests that could be made in an hourly basis. Thus, curating the dataset required the sleep function to be used to stay within Twitter’s allowance of web scraping.\n",
    "\n",
    "Working on this type of problem involved various challenges in terms of answering our data science question without bias. To best represent the population we are studying, the following steps were completed: an even number of representatives were selected from both the Democratic and Republican party; a systematic way of selecting which of the 435 politicians from the House of Representatives to use for analysis was specified (those with the most tweets and followers).  As for selecting which of the bills voted on in the House were used for analysis: the bills that had the most divide were used i.e. there was a near even split of votes.  This method of selecting bills was advantageous since it avoided biasedly selecting bills introduced to the house disproportionately by one party.  However, there was a significant issue in terms of how to filter the Tweet data.  The list of key words belonging to each bill were accumulated by taking key words in each of the bill statements and from analyzing the most popular results from searching each of the bills on Twitter. Whether or not Twitter has algorithm bias in their search results was out of the project’s scope of control; however, selecting the hashtags from these search results left room for human bias to unintendedly select a biased list of words and hashtags.  This was a challenge to the project since the poor execution of the step would skew the data set by disproportionately containing tweets predominantly from one side of the vote. However, since this was an issue raised before curating this list of key words, emphasis was places on analyzing tweets from both parties. "
   ]
  },
  {
   "cell_type": "markdown",
   "metadata": {},
   "source": [
    "# Conclusion & Discussion"
   ]
  },
  {
   "cell_type": "markdown",
   "metadata": {},
   "source": [
    "The average consistency scores for all the politicians averaged around 40%. Though we consider the margin of error provided by possible inaccuracies from Google’s sentiment analysis of the tweets, it remains that we must reject the null hypothesis. The Democratic party has demonstrated a significantly lower consistency score at approximately 30% compared to the Republicans at approximately 60%. The most transparent and consistent politician would be Tom Graves (R), the only politician who had 100% consistency. The politician who abstains the most from voting would be Kay Granger (R).  \n",
    "\n",
    "It is hard to calculate how drastic the effect of inaccurate sentiment analysis is on our consistency scores. It is possible it had a role in affecting the outcome of our hypothesis, artificially lowering the consistency of Democratic politicians in addition to the unequal balance of Democratic and Republican politician tweet counts. Looking at the example of the Violence Against Women Act and how low democratic consistency is, it can be argued that perhaps Google Sentiment Analysis misinterpreted impassioned language in support of VAWA as negative. So even though the literal content of the tweets would be consistent with the votes, our scoring system is limited by the sentiment analysis technology available to us.  \n",
    "\n",
    "Ultimately, our evaluations cannot purport to be the end all be all of character analysis for the included politicians. Our analysis represents whether or not the politicians were consistent between their stated views and the votes they ultimately cast. It does not pass judgement on the morality of the views and votes themselves, and does not let our individual viewpoints affect how the consistency score is calculated. The analysis we have done can only go so far, and does not make a broader moral judgement on the content of the politicians’ votes. Tom Graves may be the only one under our metric who scores 100%, but it is not an endorsement of his viewpoints. The same can be said for all the politicians in the study. Acknowledging this is especially important because of how contentious opposing political viewpoints can be. We wish to recognize that party bias is not be reflected in the measurements we have created—that this study has focused on checking uniformity between a politician’s public image and their political actions.\n"
   ]
  }
 ],
 "metadata": {
  "kernelspec": {
   "display_name": "Python 3",
   "language": "python",
   "name": "python3"
  },
  "language_info": {
   "codemirror_mode": {
    "name": "ipython",
    "version": 3
   },
   "file_extension": ".py",
   "mimetype": "text/x-python",
   "name": "python",
   "nbconvert_exporter": "python",
   "pygments_lexer": "ipython3",
   "version": "3.7.3"
  }
 },
 "nbformat": 4,
 "nbformat_minor": 2
}
